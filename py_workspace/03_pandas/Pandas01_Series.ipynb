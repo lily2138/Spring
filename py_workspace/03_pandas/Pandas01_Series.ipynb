{
 "cells": [
  {
   "cell_type": "code",
   "execution_count": null,
   "metadata": {},
   "outputs": [],
   "source": [
    "'''\n",
    "Pandas는 Panel Datas의 약자로 파이썬을 이용한 데이타 분석에서 가장 많이 사용되는\n",
    "라이브러리,\n",
    "Numpy 를 기반으로 만들어졌으며 데이타분석을 위한 아주 효율적인 자료구조를 제공\n",
    "1) Series -- 백터구조\n",
    "2) DataFrame -- 메트릭스\n",
    "3) Panel (우리의 대상이 아님)\n",
    "::\n",
    "우리가 앞으로 가져다 쓸 데이타는 거의다 이차원 배열구조이다.\n",
    "테이블 형식의 데이타.... 엑셀\n",
    "\n",
    "Q1. 왜 엑셀을 바로 가져다가 데이타 분석에 사용하지 않습니까?\n",
    "1) 엑셀은 프로그램이 아니다\n",
    "2) Numpy, Pandas, Matplot...에서 제공하는 라이브러리를 사용할 수 없다\n",
    "    ----> Python \n",
    "\n",
    "'''"
   ]
  },
  {
   "cell_type": "markdown",
   "metadata": {},
   "source": [
    "## Series\n",
    "### 시리즈 생성, 구조확인"
   ]
  },
  {
   "cell_type": "code",
   "execution_count": 3,
   "metadata": {},
   "outputs": [],
   "source": [
    "import numpy as np\n",
    "import pandas as pd\n",
    "from pandas import Series, DataFrame\n",
    "import matplotlib.pyplot as plt\n"
   ]
  },
  {
   "cell_type": "code",
   "execution_count": 4,
   "metadata": {},
   "outputs": [],
   "source": [
    "# 1. 시리즈생성\n",
    "ser1 = Series?"
   ]
  },
  {
   "cell_type": "code",
   "execution_count": 18,
   "metadata": {},
   "outputs": [
    {
     "name": "stdout",
     "output_type": "stream",
     "text": [
      "Index(['a', 'b', 'c', 'd', 'e'], dtype='object')\n",
      "[15 10 13 13 17]\n",
      "int32\n"
     ]
    },
    {
     "data": {
      "text/plain": [
       "a    15\n",
       "b    10\n",
       "c    13\n",
       "d    13\n",
       "e    17\n",
       "dtype: int32"
      ]
     },
     "execution_count": 18,
     "metadata": {},
     "output_type": "execute_result"
    }
   ],
   "source": [
    "#시리즈는 인덱스를 명시적으로 지정하지 않으면 자동으로 0-N-1 까지의 정수로 지정\n",
    "#시리즈는 결론적으로 np배열이다.\n",
    "#시리즈는 동일한 자료형만 담을수 있다.\n",
    "np.random.seed(0)\n",
    "ser1 = Series(np.random.randint(10,20,5), index=list('abcde'))\n",
    "ser1\n",
    "print(ser1.index)\n",
    "print(ser1.values)\n",
    "print(ser1.dtype)\n",
    "ser1"
   ]
  },
  {
   "cell_type": "markdown",
   "metadata": {},
   "source": [
    "### 시리즈값 조회하기"
   ]
  },
  {
   "cell_type": "code",
   "execution_count": 20,
   "metadata": {},
   "outputs": [
    {
     "name": "stdout",
     "output_type": "stream",
     "text": [
      "b    10\n",
      "c    13\n",
      "d    13\n",
      "dtype: int32\n",
      "b    10\n",
      "c    13\n",
      "d    13\n",
      "dtype: int32\n"
     ]
    }
   ],
   "source": [
    "'''\n",
    "단일한 값, 여러값을 선택할 때\n",
    "1) 인덱스로 지정 --- [1:4]    ----> 마지막 숫자를 포함안함\n",
    "2) 라벨로 지정 --- ['a':'c']    ----> 마지막 문자를 포함\n",
    "'''\n",
    "\n",
    "ser1[1]\n",
    "ser1['b']\n",
    "print(ser1[1:4])\n",
    "print(ser1['b':'d'])"
   ]
  },
  {
   "cell_type": "markdown",
   "metadata": {},
   "source": [
    "### 응용해서 조회하기"
   ]
  },
  {
   "cell_type": "code",
   "execution_count": 28,
   "metadata": {},
   "outputs": [
    {
     "name": "stdout",
     "output_type": "stream",
     "text": [
      "a    15\n",
      "b    10\n",
      "c    13\n",
      "d    13\n",
      "e    17\n",
      "dtype: int32\n",
      "e    17\n",
      "d    13\n",
      "c    13\n",
      "b    10\n",
      "a    15\n",
      "dtype: int32\n",
      "a    15\n",
      "c    13\n",
      "e    17\n",
      "dtype: int32\n",
      "a    15\n",
      "c    13\n",
      "e    17\n",
      "dtype: int32\n"
     ]
    }
   ],
   "source": [
    "ser1_1 = ser1[:]\n",
    "print(ser1_1)\n",
    "\n",
    "ser1_1 = ser1[::-1]\n",
    "print(ser1_1)\n",
    "\n",
    "ser1_1 = ser1[::2]\n",
    "print(ser1_1)\n",
    "\n",
    "'''\n",
    "인덱스 a,c,e만 검색해서 출력하세요....\n",
    "\n",
    "'''\n",
    "\n",
    "ser1_1 = ser1[::2]\n",
    "print(ser1_1)"
   ]
  },
  {
   "cell_type": "markdown",
   "metadata": {},
   "source": [
    "### 시리즈간의 연산과 누락데이타 처리"
   ]
  },
  {
   "cell_type": "code",
   "execution_count": 31,
   "metadata": {},
   "outputs": [
    {
     "name": "stdout",
     "output_type": "stream",
     "text": [
      "a    15\n",
      "b    10\n",
      "c    13\n",
      "d    13\n",
      "e    17\n",
      "dtype: int32\n",
      "a    15\n",
      "c    13\n",
      "e    17\n",
      "dtype: int32\n",
      "a    30.0\n",
      "b     NaN\n",
      "c    26.0\n",
      "d     NaN\n",
      "e    34.0\n",
      "dtype: float64\n"
     ]
    }
   ],
   "source": [
    "print(ser1)\n",
    "print(ser1_1)\n",
    "\n",
    "#시리즈간의 연산\n",
    "#인덱스가 없는 시리즈의 연산은 NaN출력 .... 누락데이타\n",
    "result = ser1+ser1_1\n",
    "print(result)"
   ]
  },
  {
   "cell_type": "code",
   "execution_count": 40,
   "metadata": {},
   "outputs": [
    {
     "name": "stdout",
     "output_type": "stream",
     "text": [
      "a    30.0\n",
      "b     NaN\n",
      "c    26.0\n",
      "d     NaN\n",
      "e    34.0\n",
      "dtype: float64\n",
      "a    False\n",
      "b     True\n",
      "c    False\n",
      "d     True\n",
      "e    False\n",
      "dtype: bool\n",
      "****************************************\n",
      "a     True\n",
      "b    False\n",
      "c     True\n",
      "d    False\n",
      "e     True\n",
      "dtype: bool\n",
      "****************************************\n",
      "2\n",
      "****************************************\n",
      "b   NaN\n",
      "d   NaN\n",
      "dtype: float64\n",
      "****************************************\n",
      "a    30.0\n",
      "c    26.0\n",
      "e    34.0\n",
      "dtype: float64\n"
     ]
    }
   ],
   "source": [
    "#2. 누락데이타 조회하는 함수.... isnull() notnull()\n",
    "print(result)\n",
    "print(result.isnull()) #누락데이타 True\n",
    "print('*'*40)\n",
    "print(result.notnull()) # 누락아닌데이타\n",
    "print('*'*40)\n",
    "print(result.isnull().sum())\n",
    "print('*'*40)\n",
    "print(result[result.isnull()])\n",
    "print('*'*40)\n",
    "print(result[result.notnull()])"
   ]
  },
  {
   "cell_type": "markdown",
   "metadata": {},
   "source": [
    "### Series 값을 이용한 시각화"
   ]
  },
  {
   "cell_type": "code",
   "execution_count": 42,
   "metadata": {},
   "outputs": [
    {
     "name": "stdout",
     "output_type": "stream",
     "text": [
      "AxesSubplot(0.125,0.125;0.775x0.755)\n"
     ]
    },
    {
     "data": {
      "image/png": "[encoded data removed]",
      "text/plain": [
       "<Figure size 432x288 with 1 Axes>"
      ]
     },
     "metadata": {
      "needs_background": "light"
     },
     "output_type": "display_data"
    }
   ],
   "source": [
    "'''\n",
    "위에서 했던 작업을 최종적으로 시각화\n",
    "우리가 다뤘던 데이타 중에서 누락데이타를 제외한 데이타의 분포를 확인하는 그래프\n",
    "'''\n",
    "\n",
    "print(result[result.notnull()].plot(kind='bar'))\n",
    "plt.show()"
   ]
  },
  {
   "cell_type": "code",
   "execution_count": 43,
   "metadata": {},
   "outputs": [
    {
     "data": {
      "image/png": "[encoded data removed]",
      "text/plain": [
       "<Figure size 432x288 with 1 Axes>"
      ]
     },
     "metadata": {
      "needs_background": "light"
     },
     "output_type": "display_data"
    }
   ],
   "source": [
    "'''\n",
    "no numeric data to plot  \n",
    "'''\n",
    "result[result.isnull()].plot(kind='barh')\n",
    "plt.show()\n"
   ]
  },
  {
   "cell_type": "code",
   "execution_count": null,
   "metadata": {},
   "outputs": [],
   "source": []
  },
  {
   "cell_type": "code",
   "execution_count": null,
   "metadata": {},
   "outputs": [],
   "source": []
  },
  {
   "cell_type": "code",
   "execution_count": null,
   "metadata": {},
   "outputs": [],
   "source": []
  },
  {
   "cell_type": "code",
   "execution_count": null,
   "metadata": {},
   "outputs": [],
   "source": []
  }
 ],
 "metadata": {
  "kernelspec": {
   "display_name": "Python 3",
   "language": "python",
   "name": "python3"
  },
  "language_info": {
   "codemirror_mode": {
    "name": "ipython",
    "version": 3
   },
   "file_extension": ".py",
   "mimetype": "text/x-python",
   "name": "python",
   "nbconvert_exporter": "python",
   "pygments_lexer": "ipython3",
   "version": "3.7.6"
  }
 },
 "nbformat": 4,
 "nbformat_minor": 4
}
