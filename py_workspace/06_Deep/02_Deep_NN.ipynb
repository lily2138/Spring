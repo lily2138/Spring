{
 "cells": [
  {
   "cell_type": "code",
   "execution_count": 1,
   "metadata": {},
   "outputs": [],
   "source": [
    "import torch #그냥 torch로 부른다.\n",
    "import torchvision # 파이토치에서 vision은 image Processing에 특화된 라이브러리\n",
    "import torch.nn as nn ## nn은 Neural Net\n",
    "import numpy as np\n",
    "import torchvision.transforms as transforms      #transforms....data augmentation"
   ]
  },
  {
   "cell_type": "markdown",
   "metadata": {},
   "source": [
    "### Create Tensor ... Generating Neural Net"
   ]
  },
  {
   "cell_type": "code",
   "execution_count": 2,
   "metadata": {},
   "outputs": [
    {
     "name": "stdout",
     "output_type": "stream",
     "text": [
      "tensor(1., requires_grad=True)\n",
      "tensor(2., requires_grad=True)\n",
      "tensor(3., requires_grad=True)\n"
     ]
    }
   ],
   "source": [
    "x = torch.tensor(1., requires_grad = True)\n",
    "w = torch.tensor(2., requires_grad = True)\n",
    "b = torch.tensor(3., requires_grad = True)\n",
    "\n",
    "# w*x + b\n",
    "print(x)\n",
    "print(w)\n",
    "print(b)"
   ]
  },
  {
   "cell_type": "code",
   "execution_count": 3,
   "metadata": {},
   "outputs": [
    {
     "name": "stdout",
     "output_type": "stream",
     "text": [
      "tensor(2.)\n",
      "tensor(1.)\n",
      "tensor(1.)\n"
     ]
    }
   ],
   "source": [
    "y = w*x + b    #1차원.. y=2x +3 ....\n",
    "\n",
    "y.backward()\n",
    "print(x.grad)\n",
    "print(w.grad)\n",
    "print(b.grad)"
   ]
  },
  {
   "cell_type": "markdown",
   "metadata": {},
   "source": [
    "### Create Tensor... 2차원"
   ]
  },
  {
   "cell_type": "code",
   "execution_count": 4,
   "metadata": {},
   "outputs": [
    {
     "data": {
      "text/plain": [
       "(tensor([[ 0.2911,  1.7956,  2.1875],\n",
       "         [-0.9275, -0.0997, -1.7818],\n",
       "         [ 2.9039,  0.8946, -1.7575],\n",
       "         [ 0.8788, -1.4106, -0.5224],\n",
       "         [ 1.2568,  0.4833, -0.9598],\n",
       "         [-2.3983,  0.6421, -1.0771],\n",
       "         [ 0.8562,  0.5754,  1.8065],\n",
       "         [-1.5659, -0.2798,  0.6609],\n",
       "         [ 0.9884, -0.8721,  2.5218],\n",
       "         [-0.7326, -0.5411,  1.0354]]),\n",
       " tensor([[-0.6684,  0.1992],\n",
       "         [ 1.6893,  0.5388],\n",
       "         [ 0.7811,  0.0507],\n",
       "         [-0.6806,  1.1849],\n",
       "         [ 0.3092,  0.2249],\n",
       "         [-0.4171,  0.2391],\n",
       "         [-1.1460,  1.0156],\n",
       "         [ 0.4053, -0.8443],\n",
       "         [-1.0312,  0.4714],\n",
       "         [ 0.2972,  0.4472]]))"
      ]
     },
     "execution_count": 4,
     "metadata": {},
     "output_type": "execute_result"
    }
   ],
   "source": [
    "x = torch.randn(10,3)\n",
    "y = torch.randn(10,2)\n",
    "x, y\n",
    "\n"
   ]
  },
  {
   "cell_type": "code",
   "execution_count": 5,
   "metadata": {},
   "outputs": [
    {
     "name": "stdout",
     "output_type": "stream",
     "text": [
      "Weight Parameter containing:\n",
      "tensor([[-0.4045,  0.0854, -0.4350],\n",
      "        [ 0.1138, -0.0155, -0.2817]], requires_grad=True)\n",
      "Bias Parameter containing:\n",
      "tensor([-0.4667, -0.3858], requires_grad=True)\n",
      "<generator object Module.parameters at 0x000002D4E17E73C8>\n"
     ]
    }
   ],
   "source": [
    "linear = nn.Linear(3,2)          #neural net 모델 만듦 \n",
    "print('Weight', linear.weight)\n",
    "print('Bias', linear.bias)\n",
    "\n",
    "print(linear.parameters())"
   ]
  },
  {
   "cell_type": "code",
   "execution_count": 6,
   "metadata": {},
   "outputs": [
    {
     "name": "stdout",
     "output_type": "stream",
     "text": [
      "loss before Backpropagation :: 1.0006486177444458\n",
      "dL/dw :  tensor([[-0.8164, -0.0698, -0.2351],\n",
      "        [-0.0983,  0.0420, -0.8912]])\n",
      "dL/db :  tensor([-0.5652, -0.7823])\n",
      "Loss.... after backpropagation:: 0.9762647151947021\n"
     ]
    }
   ],
   "source": [
    "#선정의해둔다\n",
    "loss_function = nn.MSELoss()      # 미리 loss 함수를 정의해두고 사용은 밑에서(나중에).... MSELoss\n",
    "\n",
    "'''\n",
    "인자값으로 linear 모델에서 학습시키고자 하는 주체를 넣어준다\n",
    "linear.parameters()\n",
    "parameters()는 weight, bias값을 내포하고 있는 해킹된 함수\n",
    "'''\n",
    "optimizer = torch.optim.SGD(linear.parameters(), lr = 0.01)         #어떤방식으로 산을내려갈지 정해줌\n",
    "\n",
    "\n",
    "pred = linear.forward(x)    #(모델에 x를 입력하면 예측값이 나온다.)\n",
    "\n",
    "loss = loss_function(pred, y)\n",
    "\n",
    "print('loss before Backpropagation ::', loss.item())\n",
    "\n",
    "loss.backward()\n",
    "\n",
    "print('dL/dw : ', linear.weight.grad)\n",
    "print('dL/db : ', linear.bias.grad)\n",
    "\n",
    "optimizer.step()    #이때 수정된 값으로 실질적인 학습....하강한다....\n",
    "\n",
    "# 반복효과\n",
    "pred = linear(x)\n",
    "loss = loss_function(pred, y)\n",
    "print('Loss.... after backpropagation::', loss.item())"
   ]
  },
  {
   "cell_type": "markdown",
   "metadata": {},
   "source": [
    "#### Neural Net Flow\n",
    "    1. 모델 정의 \n",
    "    2. 모델에 값 입력해서 예측값 할당\n",
    "    3. Loss\n",
    "    4. Backward()\n",
    "    5. 학습진행 step()"
   ]
  },
  {
   "cell_type": "code",
   "execution_count": null,
   "metadata": {},
   "outputs": [],
   "source": []
  },
  {
   "cell_type": "code",
   "execution_count": null,
   "metadata": {},
   "outputs": [],
   "source": []
  },
  {
   "cell_type": "code",
   "execution_count": null,
   "metadata": {},
   "outputs": [],
   "source": []
  },
  {
   "cell_type": "code",
   "execution_count": null,
   "metadata": {},
   "outputs": [],
   "source": []
  },
  {
   "cell_type": "code",
   "execution_count": null,
   "metadata": {},
   "outputs": [],
   "source": []
  }
 ],
 "metadata": {
  "kernelspec": {
   "display_name": "Python 3",
   "language": "python",
   "name": "python3"
  },
  "language_info": {
   "codemirror_mode": {
    "name": "ipython",
    "version": 3
   },
   "file_extension": ".py",
   "mimetype": "text/x-python",
   "name": "python",
   "nbconvert_exporter": "python",
   "pygments_lexer": "ipython3",
   "version": "3.7.7"
  }
 },
 "nbformat": 4,
 "nbformat_minor": 4
}
