{
 "cells": [
  {
   "cell_type": "code",
   "execution_count": 3,
   "metadata": {},
   "outputs": [],
   "source": [
    "import torch\n",
    "import torch.nn as nn\n",
    "import numpy as np\n",
    "import matplotlib.pyplot as plt"
   ]
  },
  {
   "cell_type": "markdown",
   "metadata": {},
   "source": [
    "## Generator Toy DataSet"
   ]
  },
  {
   "cell_type": "code",
   "execution_count": 4,
   "metadata": {},
   "outputs": [],
   "source": [
    "# Toy dataset\n",
    "x_train = np.array([[3.3], [4.4], [5.5], [6.71], [6.93], [4.168], \n",
    "                    [9.779], [6.182], [7.59], [2.167], [7.042], \n",
    "                    [10.791], [5.313], [7.997], [3.1]], dtype=np.float32)\n",
    "\n",
    "y_train = np.array([[1.7], [2.76], [2.09], [3.19], [1.694], [1.573], \n",
    "                    [3.366], [2.596], [2.53], [1.221], [2.827], \n",
    "                    [3.465], [1.65], [2.904], [1.3]], dtype=np.float32)\n"
   ]
  },
  {
   "cell_type": "markdown",
   "metadata": {},
   "source": [
    "### Hyperparameter"
   ]
  },
  {
   "cell_type": "code",
   "execution_count": 5,
   "metadata": {},
   "outputs": [],
   "source": [
    "input_size = 1\n",
    "output_size = 1\n",
    "num_epochs = 100\n",
    "learning_rate = 0.01"
   ]
  },
  {
   "cell_type": "code",
   "execution_count": 6,
   "metadata": {},
   "outputs": [],
   "source": [
    "#1. Linear Model Generation\n",
    "model = nn.Linear(input_size, output_size)\n",
    "\n",
    "#2. Lose and optimizer\n",
    "loss_function = nn.MSELoss()\n",
    "optimizer = torch.optim.SGD(model.parameters(), lr= learning_rate)"
   ]
  },
  {
   "cell_type": "code",
   "execution_count": 8,
   "metadata": {},
   "outputs": [
    {
     "name": "stdout",
     "output_type": "stream",
     "text": [
      "Epoch[5/100], Loss : 0.482\n",
      "Epoch[10/100], Loss : 0.474\n",
      "Epoch[15/100], Loss : 0.466\n",
      "Epoch[20/100], Loss : 0.458\n",
      "Epoch[25/100], Loss : 0.451\n",
      "Epoch[30/100], Loss : 0.444\n",
      "Epoch[35/100], Loss : 0.437\n",
      "Epoch[40/100], Loss : 0.430\n",
      "Epoch[45/100], Loss : 0.423\n",
      "Epoch[50/100], Loss : 0.417\n",
      "Epoch[55/100], Loss : 0.411\n",
      "Epoch[60/100], Loss : 0.405\n",
      "Epoch[65/100], Loss : 0.399\n",
      "Epoch[70/100], Loss : 0.393\n",
      "Epoch[75/100], Loss : 0.387\n",
      "Epoch[80/100], Loss : 0.382\n",
      "Epoch[85/100], Loss : 0.376\n",
      "Epoch[90/100], Loss : 0.371\n",
      "Epoch[95/100], Loss : 0.366\n",
      "Epoch[100/100], Loss : 0.361\n"
     ]
    }
   ],
   "source": [
    "#3. Train the Model\n",
    "for epoch in range(num_epochs):\n",
    "    \n",
    "    #numpy를 torch로 바꾸기\n",
    "    inputs = torch.from_numpy(x_train)\n",
    "    targets = torch.from_numpy(y_train)\n",
    "    \n",
    "    #Forward ....\n",
    "    outputs = model(inputs)\n",
    "    loss = loss_function(outputs, targets)\n",
    "    \n",
    "    optimizer.zero_grad()      # 이 부분 반드시 해줘야 한다.\n",
    "    loss.backward()\n",
    "    \n",
    "    optimizer.step()\n",
    "    \n",
    "    if(epoch + 1)%5 ==0:\n",
    "        print('Epoch[{}/{}], Loss : {:.3f}'.format(epoch+1, num_epochs, loss.item()))"
   ]
  },
  {
   "cell_type": "code",
   "execution_count": null,
   "metadata": {},
   "outputs": [],
   "source": []
  },
  {
   "cell_type": "code",
   "execution_count": null,
   "metadata": {},
   "outputs": [],
   "source": []
  }
 ],
 "metadata": {
  "kernelspec": {
   "display_name": "Python 3",
   "language": "python",
   "name": "python3"
  },
  "language_info": {
   "codemirror_mode": {
    "name": "ipython",
    "version": 3
   },
   "file_extension": ".py",
   "mimetype": "text/x-python",
   "name": "python",
   "nbconvert_exporter": "python",
   "pygments_lexer": "ipython3",
   "version": "3.7.7"
  }
 },
 "nbformat": 4,
 "nbformat_minor": 4
}
