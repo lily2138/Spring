{
 "cells": [
  {
   "cell_type": "markdown",
   "metadata": {},
   "source": [
    "# 1. 자료형\n",
    "## Background\n",
    "- 데이터 타입\n",
    "- 제어문\n",
    "\n",
    "## Problem\n",
    "### 1. myList = `[[1,2,3],[4,5,6],[7,8]]`에 9를 추가하여 `[[1,2,3],[4,5,6],[7,8,9]]`가 되도록 구현해보세요\n",
    "- append와 insert 두가지 방법으로 풀어보세요"
   ]
  },
  {
   "cell_type": "code",
   "execution_count": 3,
   "metadata": {},
   "outputs": [
    {
     "data": {
      "text/plain": [
       "[[1, 2, 3], [4, 5, 6], [7, 8, 9]]"
      ]
     },
     "execution_count": 3,
     "metadata": {},
     "output_type": "execute_result"
    }
   ],
   "source": [
    "myList = [[1,2,3],[4,5,6],[7,8]]\n",
    "myList[2].append(9)\n",
    "myList"
   ]
  },
  {
   "cell_type": "code",
   "execution_count": 4,
   "metadata": {},
   "outputs": [
    {
     "data": {
      "text/plain": [
       "[[1, 2, 3], [4, 5, 6], [7, 8, 9]]"
      ]
     },
     "execution_count": 4,
     "metadata": {},
     "output_type": "execute_result"
    }
   ],
   "source": [
    "myList = [[1,2,3],[4,5,6],[7,8]]\n",
    "myList[2].insert(2,9)\n",
    "myList"
   ]
  },
  {
   "cell_type": "markdown",
   "metadata": {},
   "source": [
    "### 2. Dictionary를 활용해서 학생들의 이름과 점수를 key와 value로 입력하고 추가, 삭제, 업데이트를 진행해보세요.\n",
    "1. score라는 dictionary에 하준 90점, 서윤 86점, 지아 80점을 입력하세요.\n",
    "2. score에 수지 95점을 추가하세요.\n",
    "3. score에서 지아를 삭제하세요.\n",
    "4. score에 기창 98점, 남철 60점, 기성 75점을 <u>한번에</u> 추가해보세요"
   ]
  },
  {
   "cell_type": "code",
   "execution_count": 7,
   "metadata": {},
   "outputs": [
    {
     "data": {
      "text/plain": [
       "{'하준': 90, '서윤': 86, '지아': 80, '수지': 95}"
      ]
     },
     "execution_count": 7,
     "metadata": {},
     "output_type": "execute_result"
    }
   ],
   "source": [
    "score={'하준':90, '서윤':86, '지아':80}\n",
    "score.update({'수지':95})\n",
    "score"
   ]
  },
  {
   "cell_type": "code",
   "execution_count": 9,
   "metadata": {},
   "outputs": [
    {
     "data": {
      "text/plain": [
       "{'하준': 90, '서윤': 86}"
      ]
     },
     "execution_count": 9,
     "metadata": {},
     "output_type": "execute_result"
    }
   ],
   "source": [
    "score={'하준':90, '서윤':86, '지아':80}\n",
    "del score['지아']\n",
    "score"
   ]
  },
  {
   "cell_type": "code",
   "execution_count": 11,
   "metadata": {},
   "outputs": [
    {
     "data": {
      "text/plain": [
       "{'하준': 90, '서윤': 86, '기창': 98, '남철': 60, '기성': 75}"
      ]
     },
     "execution_count": 11,
     "metadata": {},
     "output_type": "execute_result"
    }
   ],
   "source": [
    "addDic={'기창':98, '남철':60, '기성':75}\n",
    "score.update(addDic)\n",
    "score"
   ]
  },
  {
   "cell_type": "markdown",
   "metadata": {},
   "source": [
    "### 3. 다음 리스트에서 중복된 항목을 없애보세요.\n",
    "```python\n",
    "myList = [1,3,2,3,7,6,8,4,10,5,3,8,9]```"
   ]
  },
  {
   "cell_type": "code",
   "execution_count": 14,
   "metadata": {},
   "outputs": [
    {
     "data": {
      "text/plain": [
       "{1, 2, 3, 4, 5, 6, 7, 8, 9, 10}"
      ]
     },
     "execution_count": 14,
     "metadata": {},
     "output_type": "execute_result"
    }
   ],
   "source": [
    "myList = [1,3,2,3,7,6,8,4,10,5,3,8,9]\n",
    "setData = set(myList)\n",
    "setData"
   ]
  },
  {
   "cell_type": "markdown",
   "metadata": {},
   "source": [
    "### 4. 다음의 세 문장에서 중복으로 사용된 알파벳만 출력해보세요.(대소문자 구분)\n",
    "- \"Hello python\"\n",
    "- \"Funny programming\"\n",
    "- \"Happy newyear\""
   ]
  },
  {
   "cell_type": "code",
   "execution_count": 27,
   "metadata": {},
   "outputs": [
    {
     "data": {
      "text/plain": [
       "['l',\n",
       " 'o',\n",
       " 'n',\n",
       " 'n',\n",
       " 'y',\n",
       " ' ',\n",
       " 'p',\n",
       " 'o',\n",
       " 'r',\n",
       " 'm',\n",
       " 'n',\n",
       " 'g',\n",
       " 'H',\n",
       " 'a',\n",
       " 'p',\n",
       " 'p',\n",
       " 'y',\n",
       " ' ',\n",
       " 'n',\n",
       " 'e',\n",
       " 'y',\n",
       " 'e',\n",
       " 'a',\n",
       " 'r']"
      ]
     },
     "execution_count": 27,
     "metadata": {},
     "output_type": "execute_result"
    }
   ],
   "source": [
    "list1 = list(\"Hello pythonFunny programmingHappy newyear\")\n",
    "result = []\n",
    "for i in set(list1):\n",
    "    list1.remove(i)\n",
    "list1\n"
   ]
  },
  {
   "cell_type": "markdown",
   "metadata": {},
   "source": [
    "### 5. 다음과 같은 규칙을 가진 숫자의 합을 for문을 사용해서 구현하세요.\n",
    "- 1 + (1 + 3) + (1 + 3 + 5) + (1 + 3 + 5 + 7) + ... + (1 + 3 + ... + 19)"
   ]
  },
  {
   "cell_type": "code",
   "execution_count": 34,
   "metadata": {},
   "outputs": [
    {
     "name": "stdout",
     "output_type": "stream",
     "text": [
      "385\n"
     ]
    }
   ],
   "source": [
    "sum = 0\n",
    "for i in range(1,20,2):\n",
    "    for j in range(1,i+1,2):\n",
    "        sum += j\n",
    "print(sum)"
   ]
  }
 ],
 "metadata": {
  "kernelspec": {
   "display_name": "Python 3",
   "language": "python",
   "name": "python3"
  },
  "language_info": {
   "codemirror_mode": {
    "name": "ipython",
    "version": 3
   },
   "file_extension": ".py",
   "mimetype": "text/x-python",
   "name": "python",
   "nbconvert_exporter": "python",
   "pygments_lexer": "ipython3",
   "version": "3.7.6"
  }
 },
 "nbformat": 4,
 "nbformat_minor": 2
}
