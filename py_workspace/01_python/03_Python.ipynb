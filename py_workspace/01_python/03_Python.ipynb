{
 "cells": [
  {
   "cell_type": "markdown",
   "metadata": {},
   "source": [
    "### Tuple - 데이타 조회만 가능(Immutable)"
   ]
  },
  {
   "cell_type": "code",
   "execution_count": null,
   "metadata": {},
   "outputs": [],
   "source": [
    "'''\n",
    "Tuple은 몇가지 점만 제외하고는 List와 거의 동일하다.\n",
    "- 리스트는 []으로 값을 둘러싸지만 튜플은 ()으로 둘러싼다.\n",
    "- 리스트는 그 값의 추가, 삭제, 수정이 가능하다.\n",
    "- 튜플은 값의 변경이 안된다... 읽기만 가능하다.\n",
    "'''"
   ]
  },
  {
   "cell_type": "code",
   "execution_count": 3,
   "metadata": {},
   "outputs": [
    {
     "name": "stdout",
     "output_type": "stream",
     "text": [
      "(1, 2, 3, 4)\n",
      "<class 'tuple'>\n"
     ]
    },
    {
     "data": {
      "text/plain": [
       "(1,)"
      ]
     },
     "execution_count": 3,
     "metadata": {},
     "output_type": "execute_result"
    }
   ],
   "source": [
    "#1. 튜플생성하기\n",
    "t1 = (1,2,3,4)\n",
    "t2 = (4,5,6)\n",
    "print(t1)\n",
    "print(type(t2))\n",
    "\n",
    "t3 = (1)\n",
    "t3     #()가 없다 ---> 튜플이 아니다.\n",
    "t4 = (1,) #값이 하나일때는 반드시 뒤에 ,를 찍어줘야 튜플로 인식한다.\n",
    "t4\n",
    "\n",
    "'''\n",
    "프로그램이 실행되는 동안 그 값이 항상 변하기 않기를 바란다거나\n",
    "값이 바뀔까봐 걱정하고 싶지 않는 경우 주저하지 말고 튜플을 사용해야 한다.\n",
    "이와는 반대로\n",
    "수시로 그 값을 변경시켜야 하는 경우라면 리스트를 사용해야 한다.\n",
    "'''"
   ]
  },
  {
   "cell_type": "code",
   "execution_count": 8,
   "metadata": {},
   "outputs": [
    {
     "name": "stdout",
     "output_type": "stream",
     "text": [
      "3\n",
      "<class 'int'>\n",
      "(3, 4, 5)\n",
      "(3, 4, 5)\n",
      "[1, 2, 3, 4, 5, 6, 7, 8, 9, 0, 100]\n"
     ]
    }
   ],
   "source": [
    "a,b,c = 3,4,5 #이게 가능하다\n",
    "print(a)\n",
    "print(type(a))\n",
    "\n",
    "a = 3,4,5    #()는 생략가능하다\n",
    "print(a)\n",
    "\n",
    "b = (3,4,5)\n",
    "print(b)\n",
    "\n",
    "tu = 1,2,3,4,5,6,7,8,9,0,100\n",
    "tu\n",
    "tuList = list(tu)\n",
    "print(tuList)\n",
    "\n"
   ]
  },
  {
   "cell_type": "code",
   "execution_count": 13,
   "metadata": {},
   "outputs": [
    {
     "name": "stdout",
     "output_type": "stream",
     "text": [
      "11\n",
      "11\n",
      "******************************\n",
      "리스트 208\n",
      "튜플 136\n"
     ]
    }
   ],
   "source": [
    "import sys\n",
    "print(len(tu))\n",
    "print(len(tuList))\n",
    "print('*'*30)\n",
    "print('리스트',sys.getsizeof(tuList))\n",
    "print('튜플',sys.getsizeof(tu))"
   ]
  },
  {
   "cell_type": "code",
   "execution_count": null,
   "metadata": {},
   "outputs": [],
   "source": [
    "tu[3]=66    #튜플은 변경 안된다\n",
    "del tu[0]    #튜플은 삭제 안된다"
   ]
  },
  {
   "cell_type": "markdown",
   "metadata": {},
   "source": [
    "### 딕셔너리"
   ]
  },
  {
   "cell_type": "code",
   "execution_count": 14,
   "metadata": {},
   "outputs": [
    {
     "name": "stdout",
     "output_type": "stream",
     "text": [
      "{'name': 'DRAM', 'capa': '4g', 'maker': 'SK_H', 'price': 320000}\n"
     ]
    }
   ],
   "source": [
    "#1. 생성하기\n",
    "proDic = {'name' : 'DRAM', 'capa' : '4g', 'maker':'SK_H', 'price' : 320000}\n",
    "print(proDic)"
   ]
  },
  {
   "cell_type": "code",
   "execution_count": 15,
   "metadata": {},
   "outputs": [
    {
     "name": "stdout",
     "output_type": "stream",
     "text": [
      "DRAM\n",
      "DRAM\n"
     ]
    }
   ],
   "source": [
    "#2. 조회하기\n",
    "'''\n",
    "리스트, 튜플은 데이타의 요소를 출력할때\n",
    "인덱싱이나 슬라이싱 기법을 사용해서 데이타를 추출\n",
    "\n",
    "그런데 딕셔너리는 데이타 추출하는 방법이 단 한가지 방법만 있다.\n",
    "바로 key 를 이용해서 값을 구하는 방법이다.\n",
    "\n",
    "'''\n",
    "\n",
    "print(proDic['name'])\n",
    "print(proDic.get('name'))"
   ]
  },
  {
   "cell_type": "code",
   "execution_count": 16,
   "metadata": {},
   "outputs": [
    {
     "name": "stdout",
     "output_type": "stream",
     "text": [
      "{'name': 'DRAM', 'capa': '4g', 'maker': 'SK_H', 'price': 230000}\n"
     ]
    }
   ],
   "source": [
    "# 3. 데이타 수정하기\n",
    "proDic['price'] = 230000\n",
    "print(proDic)"
   ]
  },
  {
   "cell_type": "code",
   "execution_count": 17,
   "metadata": {},
   "outputs": [
    {
     "name": "stdout",
     "output_type": "stream",
     "text": [
      "{'name': 'DRAM', 'capa': '4g', 'maker': 'SK_H', 'price': 230000, 'loc': '이천', 'pop': 33000}\n"
     ]
    }
   ],
   "source": [
    "#4. 데이타 추가하기... 수정하기\n",
    "addinfo = {'loc':'이천', 'pop':33000}\n",
    "proDic.update(addinfo)\n",
    "print(proDic)"
   ]
  },
  {
   "cell_type": "code",
   "execution_count": 18,
   "metadata": {},
   "outputs": [
    {
     "data": {
      "text/plain": [
       "{'name': 'DRAM', 'capa': '4g', 'maker': 'SK_H', 'price': 230000, 'loc': '이천'}"
      ]
     },
     "execution_count": 18,
     "metadata": {},
     "output_type": "execute_result"
    }
   ],
   "source": [
    "# 5.데이타 삭제하기 : del dic[키이름]... pop\n",
    "# del proDic[3] 이렇게하면 안된다....인덱싱으로 안된다\n",
    "del proDic['pop']\n",
    "proDic"
   ]
  },
  {
   "cell_type": "code",
   "execution_count": null,
   "metadata": {},
   "outputs": [],
   "source": [
    "'''\n",
    "딕셔너리 다룰때 주의사항\n",
    "1.\n",
    "값은 중복이 될 수 있지만 키는 원래 고유해야 한다.\n",
    "그런데 키값이 중복되어서 들어간다면 나중에 추가된 키값으로 덮어씌여진다.\n",
    "에러나지 않는다.\n",
    "\n",
    "2.\n",
    "리슽값은 키로 올 수 없다.\n",
    "하지만 튜플은 키값으로 할 수 있다.\n",
    "딕셔너리에서 키로 쓸 수 있느냐 없느냐의 기준은\n",
    "해당하는 키값이 변경될 수 있는 값인가의 여부에 따라 달라진다.\n",
    "'''"
   ]
  },
  {
   "cell_type": "code",
   "execution_count": 21,
   "metadata": {},
   "outputs": [
    {
     "data": {
      "text/plain": [
       "{(1, 2): 'hello'}"
      ]
     },
     "execution_count": 21,
     "metadata": {},
     "output_type": "execute_result"
    }
   ],
   "source": [
    "aa={1:'a',1:'b'}\n",
    "aa\n",
    "\n",
    "# bb={[1,2] : 'hi'}\n",
    "# bb\n",
    "\n",
    "cc = {(1,2) : 'hello'}\n",
    "cc"
   ]
  },
  {
   "cell_type": "markdown",
   "metadata": {},
   "source": [
    "### 딕셔너리에서 함수 사용하기"
   ]
  },
  {
   "cell_type": "code",
   "execution_count": 23,
   "metadata": {},
   "outputs": [
    {
     "data": {
      "text/plain": [
       "{'name': 'JAMES', 'age': 33, 'address': 'NY', 'phone': '416191'}"
      ]
     },
     "execution_count": 23,
     "metadata": {},
     "output_type": "execute_result"
    }
   ],
   "source": [
    "dic = {'name':'JAMES', 'age':33, 'address': 'NY', 'phone':'416191'}\n",
    "dic"
   ]
  },
  {
   "cell_type": "code",
   "execution_count": 26,
   "metadata": {},
   "outputs": [
    {
     "name": "stdout",
     "output_type": "stream",
     "text": [
      "dict_keys(['name', 'age', 'address', 'phone'])\n",
      "<class 'dict_keys'>\n",
      "['name', 'age', 'address', 'phone']\n",
      "dict_values(['JAMES', 33, 'NY', '416191'])\n"
     ]
    }
   ],
   "source": [
    "# 1. keys(), values()\n",
    "dic_key = dic.keys()\n",
    "print(dic_key)    #타입 list아니다\n",
    "'''\n",
    "dict_keys 객체는 리스트를 사용하는 것과의 차이가 없지만\n",
    "리스트 고유의 함수를 수행할 수 없다.\n",
    "append(), insert(), pop(), remove(), sort()  이런 함수를 수행할 수 없다.\n",
    "\n",
    "for문과 연결....\n",
    "\n",
    "'''\n",
    "print(type(dic_key))\n",
    "print(list(dic_key))\n",
    "\n",
    "dic_value = dic.values()\n",
    "print(dic_value)"
   ]
  },
  {
   "cell_type": "code",
   "execution_count": 28,
   "metadata": {},
   "outputs": [
    {
     "name": "stdout",
     "output_type": "stream",
     "text": [
      "name\n",
      "age\n",
      "address\n",
      "phone\n",
      "******************************\n",
      "JAMES\n",
      "33\n",
      "NY\n",
      "416191\n"
     ]
    }
   ],
   "source": [
    "for k in dic.keys():\n",
    "    print(k)\n",
    "print('*'*30)\n",
    "for v in dic.values():\n",
    "    print(v)"
   ]
  },
  {
   "cell_type": "code",
   "execution_count": 32,
   "metadata": {},
   "outputs": [
    {
     "name": "stdout",
     "output_type": "stream",
     "text": [
      "name age address phone ******************************\n",
      "JAMES 33 NY 416191 "
     ]
    }
   ],
   "source": [
    "for k in dic.keys():\n",
    "    print(k, end=' ')\n",
    "print('*'*30)\n",
    "for v in dic.values():\n",
    "    print(v, end=' ')"
   ]
  },
  {
   "cell_type": "code",
   "execution_count": 33,
   "metadata": {},
   "outputs": [
    {
     "name": "stdout",
     "output_type": "stream",
     "text": [
      "dict_items([('name', 'JAMES'), ('age', 33), ('address', 'NY'), ('phone', '416191')])\n"
     ]
    }
   ],
   "source": [
    "# 2. key, value 모두 가지고 올 때 items\n",
    "dic_item = dic.items()\n",
    "print(dic_item)    # key, value를 쌍으로 묶은 튜플로 리턴...."
   ]
  },
  {
   "cell_type": "code",
   "execution_count": 36,
   "metadata": {},
   "outputs": [
    {
     "name": "stdout",
     "output_type": "stream",
     "text": [
      "NY\n",
      "None\n"
     ]
    },
    {
     "ename": "KeyError",
     "evalue": "'addr'",
     "output_type": "error",
     "traceback": [
      "\u001b[1;31m---------------------------------------------------------------------------\u001b[0m",
      "\u001b[1;31mKeyError\u001b[0m                                  Traceback (most recent call last)",
      "\u001b[1;32m<ipython-input-36-b7f3e4e7db51>\u001b[0m in \u001b[0;36m<module>\u001b[1;34m\u001b[0m\n\u001b[0;32m     10\u001b[0m \u001b[1;33m\u001b[0m\u001b[0m\n\u001b[0;32m     11\u001b[0m \u001b[0mprint\u001b[0m\u001b[1;33m(\u001b[0m\u001b[0mdic\u001b[0m\u001b[1;33m.\u001b[0m\u001b[0mget\u001b[0m\u001b[1;33m(\u001b[0m\u001b[1;34m'addr'\u001b[0m\u001b[1;33m)\u001b[0m\u001b[1;33m)\u001b[0m    \u001b[1;31m#존재하지 않는 키를 얻어오면 None출력\u001b[0m\u001b[1;33m\u001b[0m\u001b[1;33m\u001b[0m\u001b[0m\n\u001b[1;32m---> 12\u001b[1;33m \u001b[0maddr\u001b[0m \u001b[1;33m=\u001b[0m \u001b[0mdic\u001b[0m\u001b[1;33m[\u001b[0m\u001b[1;34m'addr'\u001b[0m\u001b[1;33m]\u001b[0m\u001b[1;33m\u001b[0m\u001b[1;33m\u001b[0m\u001b[0m\n\u001b[0m\u001b[0;32m     13\u001b[0m \u001b[0mprint\u001b[0m\u001b[1;33m(\u001b[0m\u001b[0maddr\u001b[0m\u001b[1;33m)\u001b[0m\u001b[1;33m\u001b[0m\u001b[1;33m\u001b[0m\u001b[0m\n",
      "\u001b[1;31mKeyError\u001b[0m: 'addr'"
     ]
    }
   ],
   "source": [
    "# 3. key로 value 얻기.... get()\n",
    "dic\n",
    "address=dic.get('address')\n",
    "print(address)\n",
    "'''\n",
    "None이 출력되는 경우\n",
    "1) 반환값 없는 함수를 print() 안에다 적용시킨 경우.... sort()/sorted()\n",
    "2) 딕셔너리에서 존재하지 않는 키값을 받아올 때...get으로 받아올 때\n",
    "'''\n",
    "\n",
    "print(dic.get('addr'))    #존재하지 않는 키를 얻어오면 None출력\n",
    "\n",
    "# addr = dic['addr']    # 키가 존재하지 않으면 에러 발생\n",
    "# print(addr)"
   ]
  },
  {
   "cell_type": "code",
   "execution_count": 37,
   "metadata": {},
   "outputs": [
    {
     "data": {
      "text/plain": [
       "True"
      ]
     },
     "execution_count": 37,
     "metadata": {},
     "output_type": "execute_result"
    }
   ],
   "source": [
    "'name' in dic"
   ]
  },
  {
   "cell_type": "markdown",
   "metadata": {},
   "source": [
    "### Set"
   ]
  },
  {
   "cell_type": "code",
   "execution_count": null,
   "metadata": {},
   "outputs": [],
   "source": [
    "'''\n",
    "중복 허용하지 않는다.\n",
    "순서 없다.\n",
    "\n",
    "리스트나 튜플은 순서가 있기 때문에 인덱싱을 통해서 데이타를 추출할 수 있지만\n",
    "Set 은 인덱싱으로 데이타 추출이 안된다.\n",
    "\n",
    "만약에 Set에 저장된 값을 인덱싱, 슬라이싱으로 헨들링하고자 한다면,\n",
    "리스트 혹은 튜플로 자료형을 변환한 후 해야한다.\n",
    "list(). tuple()\n",
    "'''"
   ]
  },
  {
   "cell_type": "code",
   "execution_count": 38,
   "metadata": {},
   "outputs": [
    {
     "data": {
      "text/plain": [
       "{'a', 'b', 'c'}"
      ]
     },
     "execution_count": 38,
     "metadata": {},
     "output_type": "execute_result"
    }
   ],
   "source": [
    "mySet = {'a','b','c','a','b'}\n",
    "mySet"
   ]
  },
  {
   "cell_type": "code",
   "execution_count": 43,
   "metadata": {},
   "outputs": [
    {
     "name": "stdout",
     "output_type": "stream",
     "text": [
      "[1, 1, 2, 3, 4, 5, 6, 6, 6, 8, 9, 10, 11, 11]\n",
      "{1, 2, 3, 4, 5, 6, 8, 9, 10, 11}\n",
      "[1, 2, 3, 4, 5, 6, 8, 9, 10, 11]\n"
     ]
    }
   ],
   "source": [
    "'''\n",
    "중복을 허용하지 않는 set의 특징은 다른 자료형에 담긴 데이타의 중복을 제거하기 위한\n",
    "필터 역할을 매우 종종한다\n",
    "'''\n",
    "a = [1,1,2,3,4,5,6,6,6,8,9,10,11,11]\n",
    "print(a)\n",
    "\n",
    "setData = set(a)\n",
    "print(setData)\n",
    "\n",
    "listData = list(setData)\n",
    "print(listData)"
   ]
  },
  {
   "cell_type": "code",
   "execution_count": 47,
   "metadata": {},
   "outputs": [],
   "source": [
    "listSort_desc = listData.sort(reverse=True)\n",
    "listSort_Desc"
   ]
  },
  {
   "cell_type": "code",
   "execution_count": null,
   "metadata": {},
   "outputs": [],
   "source": [
    "listData.sort(reverse=True)"
   ]
  },
  {
   "cell_type": "markdown",
   "metadata": {},
   "source": [
    "### Set 관련 함수"
   ]
  },
  {
   "cell_type": "code",
   "execution_count": 55,
   "metadata": {},
   "outputs": [
    {
     "data": {
      "text/plain": [
       "{1, 2, 3, 4}"
      ]
     },
     "execution_count": 55,
     "metadata": {},
     "output_type": "execute_result"
    }
   ],
   "source": [
    "#1. 추가.... \n",
    "s1 = set([1,2,3])\n",
    "s1.add(4)\n",
    "s1\n",
    "# s1.add({5,6,7})  # 값 하나만 추가 할 수 있다"
   ]
  },
  {
   "cell_type": "code",
   "execution_count": 56,
   "metadata": {},
   "outputs": [
    {
     "data": {
      "text/plain": [
       "{1, 2, 3, 4, 5, 6, 7}"
      ]
     },
     "execution_count": 56,
     "metadata": {},
     "output_type": "execute_result"
    }
   ],
   "source": [
    "#2. 값 여러개 추가.... update()\n",
    "s2 = {4,5,6}\n",
    "s1.update(s2)    # 중복 안되는거 확인...\n",
    "s1\n",
    "\n",
    "s1.add(7)\n",
    "s1"
   ]
  },
  {
   "cell_type": "code",
   "execution_count": 57,
   "metadata": {},
   "outputs": [
    {
     "data": {
      "text/plain": [
       "{1, 3, 4, 5, 6, 7}"
      ]
     },
     "execution_count": 57,
     "metadata": {},
     "output_type": "execute_result"
    }
   ],
   "source": [
    "s1.remove(2)\n",
    "s1"
   ]
  },
  {
   "cell_type": "code",
   "execution_count": null,
   "metadata": {},
   "outputs": [],
   "source": []
  },
  {
   "cell_type": "code",
   "execution_count": null,
   "metadata": {},
   "outputs": [],
   "source": []
  },
  {
   "cell_type": "code",
   "execution_count": null,
   "metadata": {},
   "outputs": [],
   "source": []
  },
  {
   "cell_type": "code",
   "execution_count": null,
   "metadata": {},
   "outputs": [],
   "source": []
  }
 ],
 "metadata": {
  "kernelspec": {
   "display_name": "Python 3",
   "language": "python",
   "name": "python3"
  },
  "language_info": {
   "codemirror_mode": {
    "name": "ipython",
    "version": 3
   },
   "file_extension": ".py",
   "mimetype": "text/x-python",
   "name": "python",
   "nbconvert_exporter": "python",
   "pygments_lexer": "ipython3",
   "version": "3.7.6"
  }
 },
 "nbformat": 4,
 "nbformat_minor": 4
}
