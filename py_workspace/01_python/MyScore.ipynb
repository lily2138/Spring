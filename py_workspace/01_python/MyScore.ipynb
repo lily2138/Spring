{
 "cells": [
  {
   "cell_type": "code",
   "execution_count": null,
   "metadata": {},
   "outputs": [],
   "source": [
    "'''\n",
    "MyScore 는 5개의 함수를 가지고 있는 모듈\n",
    "모듈은 반드시 확장자가 py로 끝나야한다.\n",
    "1) File > Download as > Python py 선택\n",
    "2) 매직명령어 %% writefile MyScore.py\n",
    "\n",
    "실행후 python 파일이 하나 만들어진다.\n",
    "\n",
    "참고로 %% 매직명령어는 무조건 코드의 첫부분에 나와야한다\n",
    "'''"
   ]
  },
  {
   "cell_type": "code",
   "execution_count": 1,
   "metadata": {},
   "outputs": [
    {
     "name": "stdout",
     "output_type": "stream",
     "text": [
      "Writing MyScore.py\n"
     ]
    }
   ],
   "source": [
    "%%writefile MyScore.py\n",
    "\n",
    "def getSum(data):\n",
    "    sum=0\n",
    "    for d in data:\n",
    "        sum+=d\n",
    "    return sum\n",
    "\n",
    "def getMean(data):\n",
    "    sum=0\n",
    "    for d in data:\n",
    "        sum+=d\n",
    "    mean = sum/len(data)\n",
    "    return mean\n",
    "\n",
    "def getMax(data):\n",
    "    max=data[0]\n",
    "    for idx in range(len(data)):\n",
    "        if(data[idx]>max):\n",
    "            max=data[idx]\n",
    "    return max\n",
    "\n",
    "def getMin(data):\n",
    "    min=data[0]\n",
    "    for idx in range(len(data)):\n",
    "        if(data[idx]<min):\n",
    "            min=data[idx]\n",
    "    return min\n",
    "\n",
    "def getTwoSum(num2, num1=1):    #num1이 더 큰값이 왔을 때....\n",
    "    sum=0\n",
    "    if(num1>num2):\n",
    "        num1, num2 = num2, num1 #두수를 스왑시킴\n",
    "    for i in range(num1,num2+1):\n",
    "        sum+=i\n",
    "    return sum"
   ]
  }
 ],
 "metadata": {
  "kernelspec": {
   "display_name": "Python 3",
   "language": "python",
   "name": "python3"
  },
  "language_info": {
   "codemirror_mode": {
    "name": "ipython",
    "version": 3
   },
   "file_extension": ".py",
   "mimetype": "text/x-python",
   "name": "python",
   "nbconvert_exporter": "python",
   "pygments_lexer": "ipython3",
   "version": "3.7.6"
  }
 },
 "nbformat": 4,
 "nbformat_minor": 4
}
