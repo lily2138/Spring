{
 "cells": [
  {
   "cell_type": "markdown",
   "metadata": {},
   "source": [
    "### 함수"
   ]
  },
  {
   "cell_type": "code",
   "execution_count": null,
   "metadata": {},
   "outputs": [],
   "source": [
    "'''\n",
    "머신러닝, 딥러닝을 하다보면\n",
    "함수를 우리가 정의해서 사용하는 경우가 많이 있다.\n",
    "잘 알아두자\n",
    "\n",
    "1. 기본문법\n",
    "def 함수이름(매개변수):\n",
    "    \"\"\"\n",
    "        docsring... 함수 기능에 대한 설명....\n",
    "    \"\"\"    \n",
    "    <수행할 문장1>\n",
    "    <수행할 문장2>\n",
    "    [return ]\n",
    "    \n",
    "2. 함수를 만드는 4가지 방법\n",
    "   - 위치 매개변수\n",
    "   - 기본 매개변수\n",
    "   - 키워드 매개변수\n",
    "   - 가변 매개변수\n",
    "'''"
   ]
  },
  {
   "cell_type": "code",
   "execution_count": 1,
   "metadata": {},
   "outputs": [],
   "source": [
    "# 1. 위치 매개변수\n",
    "# 가장 기본적인 인자값을 전달하는 방식, 함수에서 정의한 위치대로 인자값 할당\n",
    "# doc string 조차도 들여쓰기를 주의해야한다.\n",
    "\n",
    "def calc(num1, num2):\n",
    "    '''\n",
    "    인자값으로 받은 num1, num2\n",
    "    2개의 숫자값을 더해서 result에 할당\n",
    "    그 값을 리턴하는 기능\n",
    "    '''\n",
    "    result = num1 + num2\n",
    "    return result"
   ]
  },
  {
   "cell_type": "code",
   "execution_count": 2,
   "metadata": {},
   "outputs": [
    {
     "name": "stdout",
     "output_type": "stream",
     "text": [
      "8\n"
     ]
    }
   ],
   "source": [
    "print(calc(3,5))"
   ]
  },
  {
   "cell_type": "code",
   "execution_count": 4,
   "metadata": {},
   "outputs": [],
   "source": [
    "#calc?  물음표 하나는 함수에 대한 전반적인 설명\n",
    "#calc?? 물음표 두개는 코드가 나온다"
   ]
  },
  {
   "cell_type": "code",
   "execution_count": 6,
   "metadata": {},
   "outputs": [],
   "source": [
    "#리턴값이 없는 경우\n",
    "def add(a,b):\n",
    "    print('%d와 %d의 합은 %d입니다' %(a,b,(a+b)))"
   ]
  },
  {
   "cell_type": "code",
   "execution_count": 7,
   "metadata": {},
   "outputs": [
    {
     "name": "stdout",
     "output_type": "stream",
     "text": [
      "3와 4의 합은 7입니다\n",
      "3와 4의 합은 7입니다\n",
      "None\n"
     ]
    }
   ],
   "source": [
    "add(3,4)\n",
    "print(add(3,4))"
   ]
  },
  {
   "cell_type": "code",
   "execution_count": null,
   "metadata": {},
   "outputs": [],
   "source": [
    "#2. 기본매개변수\n",
    "# import random\n",
    "# com = random.randrange\n",
    "'''\n",
    "변수값이 입력되지 않으면 기본값이 활성화됨...\n",
    "기본매개변수 뒤에 일반(위치)매개변수가 올 수 없음\n",
    "\n",
    "'''"
   ]
  },
  {
   "cell_type": "code",
   "execution_count": 10,
   "metadata": {},
   "outputs": [
    {
     "name": "stdout",
     "output_type": "stream",
     "text": [
      "9\n",
      "3\n"
     ]
    }
   ],
   "source": [
    "def calc1(num1, start=0):\n",
    "    total = 0\n",
    "    for i in range(start, num1):\n",
    "        total +=i\n",
    "    return total\n",
    "\n",
    "print(calc1(6,4))\n",
    "print(calc1(3))"
   ]
  },
  {
   "cell_type": "code",
   "execution_count": 12,
   "metadata": {},
   "outputs": [],
   "source": [
    "'''\n",
    "pandas의 read_csv() 함수를 대표적으로 살펴보면\n",
    "위치(일반)매개변수보다 기본매개변수를 훨씬 많이 쓰고있다는 것을 알 수 있다.\n",
    "'''\n",
    "import pandas as pd\n",
    "from pandas import DataFrame\n",
    "pd.read_csv?"
   ]
  },
  {
   "cell_type": "code",
   "execution_count": 16,
   "metadata": {},
   "outputs": [],
   "source": [
    "#3. 키워드 매개변수 : 순서에 상관없이 직접 매개변수를 지정해서 찾아감\n",
    "#\n",
    "def cal2(name, age, weight):\n",
    "    print('나의 이름은', name, '이고 나이는', age, '입니다', weight)"
   ]
  },
  {
   "cell_type": "code",
   "execution_count": 19,
   "metadata": {},
   "outputs": [
    {
     "name": "stdout",
     "output_type": "stream",
     "text": [
      "나의 이름은 홍길동 이고 나이는 19 입니다 40\n",
      "나의 이름은 홍길동 이고 나이는 40 입니다 19\n",
      "나의 이름은 홍길동 이고 나이는 19 입니다 40\n"
     ]
    }
   ],
   "source": [
    "cal2('홍길동', 19, 40)   #위치매개변수\n",
    "cal2('홍길동', 40, 19)    #에러는 아니지만 잘못된 값 전달\n",
    "cal2(age=19, weight=40, name='홍길동')      #키워드 매개변수 "
   ]
  },
  {
   "cell_type": "code",
   "execution_count": 26,
   "metadata": {},
   "outputs": [
    {
     "data": {
      "text/html": [
       "<div>\n",
       "<style scoped>\n",
       "    .dataframe tbody tr th:only-of-type {\n",
       "        vertical-align: middle;\n",
       "    }\n",
       "\n",
       "    .dataframe tbody tr th {\n",
       "        vertical-align: top;\n",
       "    }\n",
       "\n",
       "    .dataframe thead th {\n",
       "        text-align: right;\n",
       "    }\n",
       "</style>\n",
       "<table border=\"1\" class=\"dataframe\">\n",
       "  <thead>\n",
       "    <tr style=\"text-align: right;\">\n",
       "      <th></th>\n",
       "      <th>e</th>\n",
       "      <th>f</th>\n",
       "      <th>g</th>\n",
       "      <th>h</th>\n",
       "    </tr>\n",
       "  </thead>\n",
       "  <tbody>\n",
       "    <tr>\n",
       "      <th>a</th>\n",
       "      <td>2.434353</td>\n",
       "      <td>-1.402006</td>\n",
       "      <td>-0.758883</td>\n",
       "      <td>-3.988334</td>\n",
       "    </tr>\n",
       "    <tr>\n",
       "      <th>b</th>\n",
       "      <td>-2.235495</td>\n",
       "      <td>-0.677141</td>\n",
       "      <td>-1.553712</td>\n",
       "      <td>0.493610</td>\n",
       "    </tr>\n",
       "    <tr>\n",
       "      <th>c</th>\n",
       "      <td>1.514922</td>\n",
       "      <td>-0.882352</td>\n",
       "      <td>0.944223</td>\n",
       "      <td>-2.374548</td>\n",
       "    </tr>\n",
       "    <tr>\n",
       "      <th>d</th>\n",
       "      <td>1.258918</td>\n",
       "      <td>-1.682775</td>\n",
       "      <td>-1.737187</td>\n",
       "      <td>-0.156750</td>\n",
       "    </tr>\n",
       "  </tbody>\n",
       "</table>\n",
       "</div>"
      ],
      "text/plain": [
       "          e         f         g         h\n",
       "a  2.434353 -1.402006 -0.758883 -3.988334\n",
       "b -2.235495 -0.677141 -1.553712  0.493610\n",
       "c  1.514922 -0.882352  0.944223 -2.374548\n",
       "d  1.258918 -1.682775 -1.737187 -0.156750"
      ]
     },
     "execution_count": 26,
     "metadata": {},
     "output_type": "execute_result"
    }
   ],
   "source": [
    "# 키워드 매개변수의 예\n",
    "import numpy as np\n",
    "import pandas as pd\n",
    "from pandas import DataFrame\n",
    "\n",
    "df1 = DataFrame(np.random.randn(4,4),\n",
    "               index=list('abcd'),\n",
    "               columns=list('efgh')\n",
    "               )\n",
    "df1"
   ]
  },
  {
   "cell_type": "code",
   "execution_count": 28,
   "metadata": {},
   "outputs": [
    {
     "name": "stdout",
     "output_type": "stream",
     "text": [
      "(3, 4, 5)\n",
      "(3,)\n"
     ]
    }
   ],
   "source": [
    "# 4. 가변매개변수 : 인자값이 몇개인지 모르는 상황에서 사용\n",
    "# 파이썬에서의 print()\n",
    "# 일반매개변수와 달리 변수명 앞에 *이 붙는다\n",
    "# 일반매개변수 앞에는 사용할 수 없다\n",
    "# 가변매개변수는 단 하나만 사용가능\n",
    "\n",
    "def cal3(*args):\n",
    "    print(args)\n",
    "    \n",
    "cal3(3,4,5)     #결과가 튜플타입으로 출력된다.\n",
    "cal3(3)      # 튜플로 출력된다"
   ]
  },
  {
   "cell_type": "code",
   "execution_count": 29,
   "metadata": {},
   "outputs": [
    {
     "name": "stdout",
     "output_type": "stream",
     "text": [
      "{'name': '홍길동', 'age': '19', 'address': '민속촌'}\n"
     ]
    }
   ],
   "source": [
    "def calc4(**args2):\n",
    "    print(args2)\n",
    "    \n",
    "# calc4(3,4)    #에러난다\n",
    "# *이 2개일때는 딕셔너리 타입으로....출력\n",
    "\n",
    "calc4(name='홍길동', age='19', address='민속촌')"
   ]
  },
  {
   "cell_type": "code",
   "execution_count": 33,
   "metadata": {
    "collapsed": true
   },
   "outputs": [
    {
     "ename": "TypeError",
     "evalue": "calc5() missing 1 required keyword-only argument: 'name'",
     "output_type": "error",
     "traceback": [
      "\u001b[1;31m---------------------------------------------------------------------------\u001b[0m",
      "\u001b[1;31mTypeError\u001b[0m                                 Traceback (most recent call last)",
      "\u001b[1;32m<ipython-input-33-063ae0cac805>\u001b[0m in \u001b[0;36m<module>\u001b[1;34m\u001b[0m\n\u001b[0;32m      3\u001b[0m \u001b[1;33m\u001b[0m\u001b[0m\n\u001b[0;32m      4\u001b[0m \u001b[1;31m#calc5('홍길동', 19)\u001b[0m\u001b[1;33m\u001b[0m\u001b[1;33m\u001b[0m\u001b[1;33m\u001b[0m\u001b[0m\n\u001b[1;32m----> 5\u001b[1;33m \u001b[0mcalc5\u001b[0m\u001b[1;33m(\u001b[0m\u001b[1;36m19\u001b[0m\u001b[1;33m,\u001b[0m\u001b[1;34m'홍길동'\u001b[0m\u001b[1;33m)\u001b[0m\u001b[1;33m\u001b[0m\u001b[1;33m\u001b[0m\u001b[0m\n\u001b[0m",
      "\u001b[1;31mTypeError\u001b[0m: calc5() missing 1 required keyword-only argument: 'name'"
     ]
    }
   ],
   "source": [
    "def calc5(*args, name):\n",
    "    print(name, ':', args)\n",
    "    \n",
    "#calc5('홍길동', 19)\n",
    "calc5(19,'홍길동')"
   ]
  },
  {
   "cell_type": "code",
   "execution_count": 34,
   "metadata": {},
   "outputs": [
    {
     "name": "stdout",
     "output_type": "stream",
     "text": [
      "홍길동 : (3, 5, 6)\n"
     ]
    }
   ],
   "source": [
    "def calc5(name, *args):\n",
    "    print(name, ':', args)\n",
    "\n",
    "calc5('홍길동', 3,5,6)"
   ]
  },
  {
   "cell_type": "code",
   "execution_count": 35,
   "metadata": {},
   "outputs": [
    {
     "name": "stdout",
     "output_type": "stream",
     "text": [
      "3\n",
      "6\n",
      "9\n"
     ]
    }
   ],
   "source": [
    "'''\n",
    "가변 매개변수와 위치매개변수를 사용해서\n",
    "3\n",
    "6\n",
    "9\n",
    "가 출력되도록 함수를 정의\n",
    "1) 이때 위치매개변수에는 인자값 3을 넣어서 호출되도록\n",
    "2) for문 사용\n",
    "\n",
    "'''\n",
    "\n",
    "def value_times(times, *values):\n",
    "    for value in values:\n",
    "        print(times * value)\n",
    "    \n",
    "value_times(3,1,2,3)"
   ]
  },
  {
   "cell_type": "markdown",
   "metadata": {},
   "source": [
    "#### 문제2 가변매개변수와 기본매개변수"
   ]
  },
  {
   "cell_type": "code",
   "execution_count": 36,
   "metadata": {},
   "outputs": [],
   "source": [
    "def value_times(*values, times=2):\n",
    "    for value in values:\n",
    "        print(times * value)"
   ]
  },
  {
   "cell_type": "code",
   "execution_count": 37,
   "metadata": {},
   "outputs": [
    {
     "name": "stdout",
     "output_type": "stream",
     "text": [
      "5\n",
      "10\n",
      "15\n",
      "20\n",
      "******************************\n",
      "2\n",
      "4\n",
      "6\n",
      "8\n",
      "******************************\n",
      "2\n",
      "4\n",
      "6\n"
     ]
    }
   ],
   "source": [
    "value_times(1,2,3,4,times=5)\n",
    "print('*'*30)\n",
    "value_times(1,2,3,4)\n",
    "print('*'*30)\n",
    "value_times(1,2,3)\n"
   ]
  },
  {
   "cell_type": "code",
   "execution_count": 38,
   "metadata": {},
   "outputs": [],
   "source": [
    "def value_times(times=2, *values):\n",
    "    for value in values:\n",
    "        print(times * value)"
   ]
  },
  {
   "cell_type": "code",
   "execution_count": 40,
   "metadata": {},
   "outputs": [
    {
     "name": "stdout",
     "output_type": "stream",
     "text": [
      "******************************\n",
      "2\n",
      "3\n",
      "4\n",
      "******************************\n",
      "2\n",
      "3\n"
     ]
    }
   ],
   "source": [
    "# value_times(1,2,3,4,times=5)\n",
    "print('*'*30)\n",
    "value_times(1,2,3,4)\n",
    "print('*'*30)\n",
    "value_times(1,2,3)"
   ]
  },
  {
   "cell_type": "markdown",
   "metadata": {},
   "source": [
    "#### Custom 함수 정의하기"
   ]
  },
  {
   "cell_type": "code",
   "execution_count": null,
   "metadata": {},
   "outputs": [],
   "source": [
    "'''\n",
    "파이썬이 제공하는 함수는 사용하지 않고\n",
    "아래와 같은 기능을 실행할 수 있는 함수 5개를 정의\n",
    "getSum(data) : 전달받은 데이타의 합을 구해서 리턴하는 기능\n",
    "getMean(data) : 평균리턴\n",
    "getMax(data) : 최대값 리턴\n",
    "getMin(data) : 최소값 리턴\n",
    "getTwoSum(num2, num1=1) : 두 수 포함... 두 수 사이의 합을 구하는 함수....\n",
    "                            두수의 합을 리턴\n",
    "'''"
   ]
  },
  {
   "cell_type": "code",
   "execution_count": 58,
   "metadata": {},
   "outputs": [],
   "source": [
    "def getSum(data):\n",
    "    sum=0\n",
    "    for d in data:\n",
    "        sum+=d\n",
    "    return sum\n",
    "\n",
    "# getSum(1,2,3)"
   ]
  },
  {
   "cell_type": "code",
   "execution_count": 66,
   "metadata": {},
   "outputs": [],
   "source": [
    "def getMean(data):\n",
    "    sum=0\n",
    "    for d in data:\n",
    "        sum+=d\n",
    "    mean = sum/len(data)\n",
    "    return mean\n",
    "\n",
    "# getMean(1,2,3)"
   ]
  },
  {
   "cell_type": "code",
   "execution_count": 61,
   "metadata": {},
   "outputs": [],
   "source": [
    "def getMax(data):\n",
    "    max=data[0]\n",
    "    for idx in range(len(data)):\n",
    "        if(data[idx]>max):\n",
    "            max=data[idx]\n",
    "    return max\n",
    "\n",
    "# getMax(1,2,3)"
   ]
  },
  {
   "cell_type": "code",
   "execution_count": 62,
   "metadata": {},
   "outputs": [],
   "source": [
    "def getMin(data):\n",
    "    min=data[0]\n",
    "    for idx in range(len(data)):\n",
    "        if(data[idx]<min):\n",
    "            min=data[idx]\n",
    "    return min\n",
    "\n",
    "# getMin(1,2,3)"
   ]
  },
  {
   "cell_type": "code",
   "execution_count": 63,
   "metadata": {},
   "outputs": [],
   "source": [
    "def getTwoSum(num2, num1=1):    #num1이 더 큰값이 왔을 때....\n",
    "    sum=0\n",
    "    if(num1>num2):\n",
    "        num1, num2 = num2, num1 #두수를 스왑시킴\n",
    "    for i in range(num1,num2+1):\n",
    "        sum+=i\n",
    "    return sum\n",
    "\n",
    "# getTwoSum(3,5)"
   ]
  },
  {
   "cell_type": "code",
   "execution_count": null,
   "metadata": {},
   "outputs": [],
   "source": [
    "# 값을 input()으로 받아서.... 원하는 함수를 직접 호출....\n",
    "# 실행하는 부분과 호출하는 부분을 별도로 작성....\n",
    "# 실행하는 모듈과 호출하는 모듈이 서로 다를 수 있다."
   ]
  },
  {
   "cell_type": "code",
   "execution_count": 68,
   "metadata": {},
   "outputs": [
    {
     "name": "stdout",
     "output_type": "stream",
     "text": [
      "값입력1,2,3,4,5,6\n",
      "[1, 2, 3, 4, 5, 6]\n",
      "총합 : 21\n",
      "평균값 : 3.5\n",
      "최대값 : 6\n",
      "최소값 : 1\n",
      "getTwoSum : 39\n"
     ]
    }
   ],
   "source": [
    "#1. 값입력\n",
    "dataL = input('값입력').split(',')\n",
    "dataL\n",
    "\n",
    "intDataL = [int(i) for i in dataL]\n",
    "print(intDataL)\n",
    "\n",
    "#2. 함수 호출\n",
    "print('총합 :',getSum(intDataL))\n",
    "print('평균값 :',getMean(intDataL))\n",
    "print('최대값 :',getMax(intDataL))\n",
    "print('최소값 :',getMin(intDataL))\n",
    "print('getTwoSum :',getTwoSum(4,9))"
   ]
  },
  {
   "cell_type": "code",
   "execution_count": null,
   "metadata": {},
   "outputs": [],
   "source": []
  },
  {
   "cell_type": "code",
   "execution_count": null,
   "metadata": {},
   "outputs": [],
   "source": []
  },
  {
   "cell_type": "code",
   "execution_count": null,
   "metadata": {},
   "outputs": [],
   "source": []
  },
  {
   "cell_type": "code",
   "execution_count": null,
   "metadata": {},
   "outputs": [],
   "source": []
  },
  {
   "cell_type": "code",
   "execution_count": null,
   "metadata": {},
   "outputs": [],
   "source": []
  },
  {
   "cell_type": "code",
   "execution_count": null,
   "metadata": {},
   "outputs": [],
   "source": []
  },
  {
   "cell_type": "code",
   "execution_count": null,
   "metadata": {},
   "outputs": [],
   "source": []
  },
  {
   "cell_type": "code",
   "execution_count": null,
   "metadata": {},
   "outputs": [],
   "source": []
  }
 ],
 "metadata": {
  "kernelspec": {
   "display_name": "Python 3",
   "language": "python",
   "name": "python3"
  },
  "language_info": {
   "codemirror_mode": {
    "name": "ipython",
    "version": 3
   },
   "file_extension": ".py",
   "mimetype": "text/x-python",
   "name": "python",
   "nbconvert_exporter": "python",
   "pygments_lexer": "ipython3",
   "version": "3.7.6"
  }
 },
 "nbformat": 4,
 "nbformat_minor": 4
}
