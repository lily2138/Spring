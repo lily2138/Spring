{
 "cells": [
  {
   "cell_type": "code",
   "execution_count": 16,
   "metadata": {},
   "outputs": [
    {
     "name": "stdout",
     "output_type": "stream",
     "text": [
      "Overwriting myGame.py\n"
     ]
    }
   ],
   "source": [
    "%%writefile myGame.py\n",
    "import random\n",
    "\n",
    "def makeLotto(num):\n",
    "    for idx in range(num):\n",
    "        randNum = random.sample(range(1, 46), 6)\n",
    "        randNum.sort()\n",
    "        print(randNum)\n",
    "        \n",
    "# A+ : 4.5, A : 4.3, A- : 4.0, B+ : 3.5, B: 3.3, B-: 3.0, C : 2.5, D : 1.5\n",
    "def meanGrade(grade):\n",
    "    score = grade.split(',')\n",
    "    sum=0\n",
    "    for s in score:\n",
    "        if s=='A+':\n",
    "            sum+=4.5\n",
    "        elif s=='A':\n",
    "            sum+=4.3\n",
    "        elif s=='A-':\n",
    "            sum+=4.0\n",
    "        elif s=='B+':\n",
    "            sum+=3.5\n",
    "        elif s=='B':\n",
    "            sum+=3.3\n",
    "        elif s=='B-':\n",
    "            sum+=3.0\n",
    "        elif s=='C':\n",
    "            sum+=2.5\n",
    "        elif s=='D':\n",
    "            sum+=1.5\n",
    "        else:\n",
    "            errorResult=\"잘못된 학점이 있습니다\"\n",
    "            return errorResult\n",
    "        mean = sum/len(score)\n",
    "    return mean\n"
   ]
  },
  {
   "cell_type": "code",
   "execution_count": 4,
   "metadata": {},
   "outputs": [
    {
     "name": "stdout",
     "output_type": "stream",
     "text": [
      "[5, 11, 16, 38, 40, 43]\n",
      "[3, 12, 22, 26, 34, 39]\n"
     ]
    }
   ],
   "source": [
    "from myGame import makeLotto\n",
    "makeLotto(2)"
   ]
  },
  {
   "cell_type": "code",
   "execution_count": 12,
   "metadata": {},
   "outputs": [
    {
     "name": "stdout",
     "output_type": "stream",
     "text": [
      "학점을 입력하세요A,A,B,A+\n"
     ]
    },
    {
     "data": {
      "text/plain": [
       "4.1"
      ]
     },
     "execution_count": 12,
     "metadata": {},
     "output_type": "execute_result"
    }
   ],
   "source": [
    "\n",
    "# grade = input('학점을 입력하세요')\n",
    "# meanGrade(grade)"
   ]
  }
 ],
 "metadata": {
  "kernelspec": {
   "display_name": "Python 3",
   "language": "python",
   "name": "python3"
  },
  "language_info": {
   "codemirror_mode": {
    "name": "ipython",
    "version": 3
   },
   "file_extension": ".py",
   "mimetype": "text/x-python",
   "name": "python",
   "nbconvert_exporter": "python",
   "pygments_lexer": "ipython3",
   "version": "3.7.6"
  }
 },
 "nbformat": 4,
 "nbformat_minor": 4
}
