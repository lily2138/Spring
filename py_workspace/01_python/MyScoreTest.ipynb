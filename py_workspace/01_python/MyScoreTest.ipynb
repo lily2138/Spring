{
 "cells": [
  {
   "cell_type": "code",
   "execution_count": 4,
   "metadata": {},
   "outputs": [
    {
     "name": "stdout",
     "output_type": "stream",
     "text": [
      "값입력1,2,3,4,5,6\n",
      "[1, 2, 3, 4, 5, 6]\n",
      "총합 : 21\n",
      "평균값 : 3.5\n",
      "최대값 : 6\n",
      "최소값 : 1\n",
      "getTwoSum : 39\n"
     ]
    }
   ],
   "source": [
    "from MyScore import getSum,getMean,getMax,getMin,getTwoSum\n",
    "\n",
    "\n",
    "#1. 값입력\n",
    "dataL = input('값입력').split(',')\n",
    "dataL\n",
    "\n",
    "# intDataL = [int(i) for i in dataL]\n",
    "\n",
    "intDataL=list(map(int,dataL))\n",
    "print(intDataL)\n",
    "\n",
    "#2. 함수 호출\n",
    "print('총합 :',getSum(intDataL))\n",
    "print('평균값 :',getMean(intDataL))\n",
    "print('최대값 :',getMax(intDataL))\n",
    "print('최소값 :',getMin(intDataL))\n",
    "print('getTwoSum :',getTwoSum(4,9))"
   ]
  }
 ],
 "metadata": {
  "kernelspec": {
   "display_name": "Python 3",
   "language": "python",
   "name": "python3"
  },
  "language_info": {
   "codemirror_mode": {
    "name": "ipython",
    "version": 3
   },
   "file_extension": ".py",
   "mimetype": "text/x-python",
   "name": "python",
   "nbconvert_exporter": "python",
   "pygments_lexer": "ipython3",
   "version": "3.7.6"
  }
 },
 "nbformat": 4,
 "nbformat_minor": 4
}
