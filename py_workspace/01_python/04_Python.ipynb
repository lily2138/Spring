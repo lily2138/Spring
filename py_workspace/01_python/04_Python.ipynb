{
 "cells": [
  {
   "cell_type": "markdown",
   "metadata": {},
   "source": [
    "## 조건문, 제어문(if, elif, else)"
   ]
  },
  {
   "cell_type": "code",
   "execution_count": 1,
   "metadata": {},
   "outputs": [
    {
     "name": "stdout",
     "output_type": "stream",
     "text": [
      "a is 3\n"
     ]
    }
   ],
   "source": [
    "a=3\n",
    "if a%2==0:\n",
    "    print('even')\n",
    "else:\n",
    "    if(a==1):\n",
    "        print('a is 1')\n",
    "    elif(a==3):\n",
    "        print('a is 3')"
   ]
  },
  {
   "cell_type": "markdown",
   "metadata": {},
   "source": [
    "#### 문제1\n",
    "#### 키보드로 성적을 입력받고 해당하는 성적이 몇등급인지를 판별해서 출력"
   ]
  },
  {
   "cell_type": "code",
   "execution_count": 5,
   "metadata": {},
   "outputs": [
    {
     "name": "stdout",
     "output_type": "stream",
     "text": [
      "성적을 입력해주세요64\n",
      "D\n"
     ]
    }
   ],
   "source": [
    "score = int(input('성적을 입력해주세요'))\n",
    "score\n",
    "\n",
    "if(score>=90):\n",
    "    print('A')\n",
    "elif(score>=80):\n",
    "    print('B')\n",
    "elif(score>=70):\n",
    "    print('C')\n",
    "else:\n",
    "    print('D')"
   ]
  },
  {
   "cell_type": "markdown",
   "metadata": {},
   "source": [
    "### 반복문(for, while) - range() 함께"
   ]
  },
  {
   "cell_type": "code",
   "execution_count": 7,
   "metadata": {},
   "outputs": [
    {
     "name": "stdout",
     "output_type": "stream",
     "text": [
      "신비한 동물사전\n",
      "조커\n",
      "기생충\n",
      "타임페러독스\n",
      "******************************\n",
      "신비한 동물사전\n",
      "조커\n",
      "기생충\n",
      "타임페러독스\n"
     ]
    }
   ],
   "source": [
    "movieL = ['신비한 동물사전', '조커', '기생충', '타임페러독스']\n",
    "\n",
    "#1.\n",
    "for m in movieL:\n",
    "    print(m)\n",
    "\n",
    "print('*'*30)\n",
    "\n",
    "#2. range 사용\n",
    "for idx in range(len(movieL)):    #range(4), 0,1,2,3\n",
    "    print(movieL[idx])\n",
    "    "
   ]
  },
  {
   "cell_type": "markdown",
   "metadata": {},
   "source": [
    "### 문제2\n",
    "### 키보드로 값 입력받고 입력한 값의 전체합을 구하세요\n",
    "입력한 값들은 3,4,5,6 으로 하자"
   ]
  },
  {
   "cell_type": "code",
   "execution_count": 17,
   "metadata": {},
   "outputs": [
    {
     "name": "stdout",
     "output_type": "stream",
     "text": [
      "키보드로 값 4개 입력하세요3,4,5,6\n",
      "18\n",
      "18\n"
     ]
    }
   ],
   "source": [
    "data = input('키보드로 값 4개 입력하세요').split(',')\n",
    "total = 0\n",
    "data\n",
    "for n in data:\n",
    "    total += int(n)\n",
    "total\n",
    "total = 0\n",
    "for a in range(len(data)):\n",
    "    total += int(data[a])\n",
    "print(total)\n",
    "    \n",
    "intData = [int(i) for i in data]\n",
    "print(sum(intData))"
   ]
  },
  {
   "cell_type": "code",
   "execution_count": 22,
   "metadata": {},
   "outputs": [
    {
     "data": {
      "text/plain": [
       "['홀', '짝', '홀', '홀', '짝', '짝']"
      ]
     },
     "execution_count": 22,
     "metadata": {},
     "output_type": "execute_result"
    }
   ],
   "source": [
    "'''\n",
    "numlist = [5,10,11,3,2,100]\n",
    "numlist 데이타를 이용해서 다음과 같이 출력하세요\n",
    "['홀', '짝', '홀', '홀', '짝', '짝']\n",
    "'''\n",
    "numlist = [5,10,11,3,2,100]\n",
    "resultList = []\n",
    "for a in numlist:\n",
    "    if(a%2==0):\n",
    "        resultList.append('짝')\n",
    "    else:\n",
    "        resultList.append('홀')\n",
    "resultList\n",
    "\n",
    "resultData = ['짝' if i%2==0 else '홀' for i in numlist]\n",
    "resultData"
   ]
  },
  {
   "cell_type": "markdown",
   "metadata": {},
   "source": [
    "## 이차원배열에 for문 사용하기, 이중 for문"
   ]
  },
  {
   "cell_type": "code",
   "execution_count": 24,
   "metadata": {},
   "outputs": [
    {
     "name": "stdout",
     "output_type": "stream",
     "text": [
      "0 1 2 3 4 "
     ]
    }
   ],
   "source": [
    "for i in range(5):\n",
    "    print(i, end=' ')"
   ]
  },
  {
   "cell_type": "code",
   "execution_count": 25,
   "metadata": {},
   "outputs": [
    {
     "data": {
      "text/plain": [
       "3"
      ]
     },
     "execution_count": 25,
     "metadata": {},
     "output_type": "execute_result"
    }
   ],
   "source": [
    "matrix = [[1,2,3],[4,5,6],[7,8,9,10]]\n",
    "len(matrix)"
   ]
  },
  {
   "cell_type": "code",
   "execution_count": null,
   "metadata": {},
   "outputs": [],
   "source": [
    "'''\n",
    "문제 1)\n",
    "[1,2,3]\n",
    "[4,5,6]\n",
    "[7,8,9,10] 이 출력되도록....\n",
    "'''\n"
   ]
  },
  {
   "cell_type": "code",
   "execution_count": 40,
   "metadata": {},
   "outputs": [
    {
     "name": "stdout",
     "output_type": "stream",
     "text": [
      "[1, 2, 3]\n",
      "[4, 5, 6]\n",
      "[7, 8, 9, 10]\n",
      "******************************\n",
      "[1, 2, 3]\n",
      "[4, 5, 6]\n",
      "[7, 8, 9, 10]\n",
      "******************************\n",
      "1 2 3 \n",
      "4 5 6 \n",
      "7 8 9 10 \n",
      "******************************\n",
      "1 2 3 \n",
      "4 5 6 \n",
      "7 8 9 10 \n"
     ]
    }
   ],
   "source": [
    "#1. \n",
    "for i in matrix:\n",
    "    print(i)\n",
    "print('*'*30)\n",
    "#2. len()사용해서....\n",
    "for i in range(len(matrix)):\n",
    "    print(matrix[i])\n",
    "print('*'*30)  \n",
    "#3. \n",
    "for i in range(len(matrix)):\n",
    "    for j in range(len(matrix[i])):\n",
    "        print(matrix[i][j], end=' ')\n",
    "    print()\n",
    "print('*'*30)\n",
    "#4.\n",
    "for row in matrix:\n",
    "    for col in row:\n",
    "        print(col, end=' ')\n",
    "    print()"
   ]
  },
  {
   "cell_type": "markdown",
   "metadata": {},
   "source": [
    "### While문"
   ]
  },
  {
   "cell_type": "code",
   "execution_count": 2,
   "metadata": {},
   "outputs": [
    {
     "name": "stdout",
     "output_type": "stream",
     "text": [
      "101 까지의 총합 :  5050\n",
      "******************************\n",
      "101 까지의 총합 : 5050\n"
     ]
    }
   ],
   "source": [
    "'''\n",
    "1부터 100까지의 합을 구한다\n",
    "조건을 2가지 둔다\n",
    "1) while i<101    2) while true\n",
    "'''\n",
    "#1)\n",
    "i=1\n",
    "total1 = 0\n",
    "while i<101:\n",
    "    total1 += i\n",
    "    i = i+1\n",
    "print('101 까지의 총합 :', total1)\n",
    "print('*'*30)\n",
    "\n",
    "\n",
    "j=1\n",
    "total2=0\n",
    "while True:\n",
    "    if j==101:\n",
    "        break\n",
    "    total2 +=j\n",
    "    j=j+1\n",
    "print('101 까지의 총합 :', total2)"
   ]
  },
  {
   "cell_type": "code",
   "execution_count": 4,
   "metadata": {},
   "outputs": [
    {
     "name": "stdout",
     "output_type": "stream",
     "text": [
      "0\n",
      "1\n",
      "continue.... loop..... 2\n",
      "3\n",
      "pass.... loop.... 4\n",
      "4\n",
      "5\n",
      "break.... loop..... 6\n"
     ]
    }
   ],
   "source": [
    "# continue, break, pass가 키워드\n",
    "for i in range(10):\n",
    "    if i==2:\n",
    "        print('continue.... loop.....', i)\n",
    "        continue\n",
    "    if i==6:\n",
    "        print('break.... loop.....', i)\n",
    "        break\n",
    "    if i==4:\n",
    "        print('pass.... loop....', i)\n",
    "        pass\n",
    "    print(i)"
   ]
  },
  {
   "cell_type": "markdown",
   "metadata": {},
   "source": [
    "### 문제 Number Guess... 번호 맞추기 게임"
   ]
  },
  {
   "cell_type": "code",
   "execution_count": null,
   "metadata": {},
   "outputs": [],
   "source": [
    "'''\n",
    "랜덤한 숫자 하나를 지정....random.randrange()....44\n",
    "키보드로 특정한 숫자를 입력받아서 ... int(input())\n",
    "\n",
    "- 입력된 값이 더 작으면 작습니다\n",
    "- 입력된 값이 더 크면 큽니다\n",
    "'''"
   ]
  },
  {
   "cell_type": "code",
   "execution_count": 1,
   "metadata": {},
   "outputs": [
    {
     "name": "stdout",
     "output_type": "stream",
     "text": [
      "숫자를 입력하세요49\n",
      "입력된 값이 더 큽니다\n",
      "숫자를 입력하세요30\n",
      "입력된 값이 더 큽니다\n",
      "숫자를 입력하세요5\n",
      "입력된 값이 더 작습니다\n",
      "숫자를 입력하세요15\n",
      "입력된 값이 더 작습니다\n",
      "숫자를 입력하세요26\n",
      "입력된 값이 더 큽니다\n",
      "숫자를 입력하세요21\n",
      "입력된 값이 더 작습니다\n",
      "숫자를 입력하세요24\n",
      "입력된 값이 더 작습니다\n",
      "숫자를 입력하세요23\n",
      "입력된 값이 더 작습니다\n",
      "숫자를 입력하세요22\n",
      "입력된 값이 더 작습니다\n",
      "숫자를 입력하세요25\n",
      "25 정답입니다\n"
     ]
    }
   ],
   "source": [
    "import random\n",
    "randNum = random.randrange(1,100)\n",
    "while True:\n",
    "    userNum = int(input('숫자를 입력하세요'))\n",
    "    if(userNum>randNum):\n",
    "        print('입력된 값이 더 큽니다')\n",
    "    elif(userNum<randNum):\n",
    "        print('입력된 값이 더 작습니다')\n",
    "    elif(userNum==randNum):\n",
    "        print('%d 정답입니다' %(randNum))\n",
    "        break\n",
    "    else:\n",
    "        print('숫자를 입력하세요')"
   ]
  },
  {
   "cell_type": "code",
   "execution_count": null,
   "metadata": {},
   "outputs": [],
   "source": []
  },
  {
   "cell_type": "code",
   "execution_count": null,
   "metadata": {},
   "outputs": [],
   "source": []
  },
  {
   "cell_type": "code",
   "execution_count": null,
   "metadata": {},
   "outputs": [],
   "source": []
  },
  {
   "cell_type": "code",
   "execution_count": null,
   "metadata": {},
   "outputs": [],
   "source": []
  },
  {
   "cell_type": "code",
   "execution_count": null,
   "metadata": {},
   "outputs": [],
   "source": []
  },
  {
   "cell_type": "code",
   "execution_count": null,
   "metadata": {},
   "outputs": [],
   "source": []
  },
  {
   "cell_type": "code",
   "execution_count": null,
   "metadata": {},
   "outputs": [],
   "source": []
  },
  {
   "cell_type": "code",
   "execution_count": null,
   "metadata": {},
   "outputs": [],
   "source": []
  }
 ],
 "metadata": {
  "kernelspec": {
   "display_name": "Python 3",
   "language": "python",
   "name": "python3"
  },
  "language_info": {
   "codemirror_mode": {
    "name": "ipython",
    "version": 3
   },
   "file_extension": ".py",
   "mimetype": "text/x-python",
   "name": "python",
   "nbconvert_exporter": "python",
   "pygments_lexer": "ipython3",
   "version": "3.7.6"
  }
 },
 "nbformat": 4,
 "nbformat_minor": 4
}
