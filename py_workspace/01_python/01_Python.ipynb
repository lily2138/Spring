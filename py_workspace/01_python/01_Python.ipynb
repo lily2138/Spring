{
 "cells": [
  {
   "cell_type": "markdown",
   "metadata": {},
   "source": [
    "# 변수와 데이타 타입\n",
    "\n",
    "파이썬에서의 데이타 타입들"
   ]
  },
  {
   "cell_type": "code",
   "execution_count": null,
   "metadata": {},
   "outputs": [],
   "source": [
    "'''\n",
    "파이썬에서의 데이타 타입들\n",
    "int - 정수\n",
    "float - 실수\n",
    "bool - False, True\n",
    "str - 문자열\n",
    "list - 순서가 있는 값들의 집합\n",
    "tuple - 순서가 있는 값들의 집합.... 변경불가\n",
    "set - 순서는 없고 중복이 안되는 값들의 집합\n",
    "dic - 키와 값으로 데이타를 저장\n",
    "\n",
    "'''"
   ]
  },
  {
   "cell_type": "code",
   "execution_count": 5,
   "metadata": {
    "scrolled": true
   },
   "outputs": [
    {
     "name": "stdout",
     "output_type": "stream",
     "text": [
      "Hello Python\n"
     ]
    }
   ],
   "source": [
    "str = \"Hello Python\"\n",
    "print(str)\n",
    "#str"
   ]
  },
  {
   "cell_type": "code",
   "execution_count": 7,
   "metadata": {},
   "outputs": [
    {
     "name": "stdout",
     "output_type": "stream",
     "text": [
      "3\n",
      "3.5\n",
      "Hello\n",
      "**************************************************\n",
      "<class 'int'>\n",
      "<class 'float'>\n",
      "<class 'str'>\n"
     ]
    }
   ],
   "source": [
    "a=3\n",
    "b=3.5\n",
    "c='Hello'\n",
    "print(a)\n",
    "print(b)\n",
    "print(c)\n",
    "print('*'*50)\n",
    "print(type(a))\n",
    "print(type(b))\n",
    "print(type(c))"
   ]
  },
  {
   "cell_type": "code",
   "execution_count": 11,
   "metadata": {},
   "outputs": [
    {
     "name": "stdout",
     "output_type": "stream",
     "text": [
      "당신의 나이를 입력하세요111\n",
      "이름 111\n",
      "<class 'str'>\n"
     ]
    }
   ],
   "source": [
    "'''\n",
    "input()을 통해서 값을 입력받아보자...\n",
    "'''\n",
    "data = input('당신의 나이를 입력하세요')\n",
    "print('나이 '+data)\n",
    "print(type(data))"
   ]
  },
  {
   "cell_type": "code",
   "execution_count": 13,
   "metadata": {},
   "outputs": [
    {
     "name": "stdout",
     "output_type": "stream",
     "text": [
      "True\n",
      "False\n"
     ]
    }
   ],
   "source": [
    "d=3\n",
    "e=3.0\n",
    "print(d==e)\n",
    "print(type(d)==type(e))"
   ]
  },
  {
   "cell_type": "markdown",
   "metadata": {},
   "source": [
    "## 연산자와 포메팅"
   ]
  },
  {
   "cell_type": "code",
   "execution_count": 17,
   "metadata": {},
   "outputs": [
    {
     "name": "stdout",
     "output_type": "stream",
     "text": [
      "1.6666666666666667\n",
      "1\n",
      "2\n"
     ]
    }
   ],
   "source": [
    "num1 = 5\n",
    "num2 = 3\n",
    "print(num1/num2) #결과가 float로 반환\n",
    "print(num1//num2) #num1을 num2로 나눈 몫을 구함....int\n",
    "remain = num1 % num2   #int 로 반환\n",
    "print(remain)"
   ]
  },
  {
   "cell_type": "code",
   "execution_count": 18,
   "metadata": {
    "collapsed": true
   },
   "outputs": [
    {
     "data": {
      "text/plain": [
       "['__abs__',\n",
       " '__add__',\n",
       " '__and__',\n",
       " '__bool__',\n",
       " '__ceil__',\n",
       " '__class__',\n",
       " '__delattr__',\n",
       " '__dir__',\n",
       " '__divmod__',\n",
       " '__doc__',\n",
       " '__eq__',\n",
       " '__float__',\n",
       " '__floor__',\n",
       " '__floordiv__',\n",
       " '__format__',\n",
       " '__ge__',\n",
       " '__getattribute__',\n",
       " '__getnewargs__',\n",
       " '__gt__',\n",
       " '__hash__',\n",
       " '__index__',\n",
       " '__init__',\n",
       " '__init_subclass__',\n",
       " '__int__',\n",
       " '__invert__',\n",
       " '__le__',\n",
       " '__lshift__',\n",
       " '__lt__',\n",
       " '__mod__',\n",
       " '__mul__',\n",
       " '__ne__',\n",
       " '__neg__',\n",
       " '__new__',\n",
       " '__or__',\n",
       " '__pos__',\n",
       " '__pow__',\n",
       " '__radd__',\n",
       " '__rand__',\n",
       " '__rdivmod__',\n",
       " '__reduce__',\n",
       " '__reduce_ex__',\n",
       " '__repr__',\n",
       " '__rfloordiv__',\n",
       " '__rlshift__',\n",
       " '__rmod__',\n",
       " '__rmul__',\n",
       " '__ror__',\n",
       " '__round__',\n",
       " '__rpow__',\n",
       " '__rrshift__',\n",
       " '__rshift__',\n",
       " '__rsub__',\n",
       " '__rtruediv__',\n",
       " '__rxor__',\n",
       " '__setattr__',\n",
       " '__sizeof__',\n",
       " '__str__',\n",
       " '__sub__',\n",
       " '__subclasshook__',\n",
       " '__truediv__',\n",
       " '__trunc__',\n",
       " '__xor__',\n",
       " 'bit_length',\n",
       " 'conjugate',\n",
       " 'denominator',\n",
       " 'from_bytes',\n",
       " 'imag',\n",
       " 'numerator',\n",
       " 'real',\n",
       " 'to_bytes']"
      ]
     },
     "execution_count": 18,
     "metadata": {},
     "output_type": "execute_result"
    }
   ],
   "source": [
    "'''\n",
    "파이썬의 모든 변수는 객체이다.\n",
    "그렇기 때문에 당연히 속성과 메소드가 있다.\n",
    "이중에서 타입을 변경하는 함수....\n",
    "\n",
    "'''\n",
    "dir(num1)"
   ]
  },
  {
   "cell_type": "code",
   "execution_count": 23,
   "metadata": {},
   "outputs": [
    {
     "data": {
      "text/plain": [
       "111"
      ]
     },
     "execution_count": 23,
     "metadata": {},
     "output_type": "execute_result"
    }
   ],
   "source": [
    "# 형변환 함수\n",
    "'''\n",
    "int()\n",
    "float()\n",
    "str()\n",
    "list()\n",
    "tuple()\n",
    "'''\n",
    "int(True)\n",
    "int(False)\n",
    "int(e)\n",
    "float(a)\n",
    "round(44.78)\n",
    "int('111')"
   ]
  },
  {
   "cell_type": "code",
   "execution_count": 24,
   "metadata": {},
   "outputs": [
    {
     "name": "stdout",
     "output_type": "stream",
     "text": [
      "James 의 나이는 55 살 입니다.\n"
     ]
    }
   ],
   "source": [
    "name='James'\n",
    "age=55\n",
    "print(name, '의 나이는' , age, '살 입니다.')"
   ]
  },
  {
   "cell_type": "code",
   "execution_count": 27,
   "metadata": {},
   "outputs": [
    {
     "name": "stdout",
     "output_type": "stream",
     "text": [
      "정수입력4\n",
      "<class 'str'>\n",
      "<class 'int'>\n",
      "4\n"
     ]
    }
   ],
   "source": [
    "num3= input('정수입력')\n",
    "print(type(num3))\n",
    "num4 = int(num3)\n",
    "print(type(num4))\n",
    "print(num4)"
   ]
  },
  {
   "cell_type": "markdown",
   "metadata": {},
   "source": [
    "### 문제1."
   ]
  },
  {
   "cell_type": "code",
   "execution_count": 32,
   "metadata": {},
   "outputs": [],
   "source": [
    "# 키보드로부터 초를 입력받아 다음과 같이 출력합니다.... ex)3700\n",
    "# 3700초 1시간 1분 40초 입니다....가 출력되도록"
   ]
  },
  {
   "cell_type": "code",
   "execution_count": 53,
   "metadata": {},
   "outputs": [
    {
     "name": "stdout",
     "output_type": "stream",
     "text": [
      "초를 입력하세요3600\n",
      "1 시간 0 분 0 초 입니다\n",
      "1시간 0분 0초 입니다\n"
     ]
    }
   ],
   "source": [
    "time=input('초를 입력하세요')\n",
    "realtime = int(time)\n",
    "num1 = realtime//3600\n",
    "num2 = (realtime%3600)//60\n",
    "num3 = (realtime%3600)%60 #realtime%60\n",
    "print(num1,'시간',num2,'분',num3,'초 입니다')\n",
    "\n",
    "# 포메팅을 사용해서 동일한 결과를 출력하세요\n",
    "print('%d시간 %d분 %d초 입니다' %(num1, num2, num3))"
   ]
  },
  {
   "cell_type": "code",
   "execution_count": 45,
   "metadata": {},
   "outputs": [
    {
     "name": "stdout",
     "output_type": "stream",
     "text": [
      "True\n",
      "False\n",
      "2078111807408\n",
      "2078111807024\n"
     ]
    }
   ],
   "source": [
    "'''\n",
    "immutable 타입으로는\n",
    "Tuple, 숫자(int, float), str\n",
    "'''\n",
    "a = 257\n",
    "b = 257\n",
    "print(a==b)\n",
    "print(a is b)\n",
    "print(id(a))\n",
    "print(id(b))"
   ]
  },
  {
   "cell_type": "code",
   "execution_count": 46,
   "metadata": {},
   "outputs": [
    {
     "name": "stdout",
     "output_type": "stream",
     "text": [
      "True\n",
      "True\n",
      "140707174660720\n",
      "140707174660720\n"
     ]
    }
   ],
   "source": [
    "'''\n",
    "-5~256(메모리를 효율적으로 활용하기 위해서)\n",
    "이 범위에 있는 값은 한번 객체를 만들고나서는 다시 만들지 않는다...\n",
    "'''\n",
    "\n",
    "a = 200\n",
    "b = 200\n",
    "print(a==b)\n",
    "print(a is b)\n",
    "print(id(a))\n",
    "print(id(b))"
   ]
  },
  {
   "cell_type": "code",
   "execution_count": 48,
   "metadata": {},
   "outputs": [
    {
     "name": "stdout",
     "output_type": "stream",
     "text": [
      "hello\n",
      "hello\n",
      "\n",
      "            This is\n",
      "            MyStr3 Test\n",
      "                    Hello...\n",
      "\n"
     ]
    }
   ],
   "source": [
    "# 문자열 ....literal.... 작은따옴표(') 또는 큰 따옴표('')로 둘러싸서 만들수 있다.\n",
    "# 문자열을 여러줄로 만들어줄 경우.... 그때도 사용한다.\n",
    "mtStr1 = 'hello'\n",
    "mtStr2 = 'hello'\n",
    "mtStr3 = '''\n",
    "            This is\n",
    "            MyStr3 Test\n",
    "                    Hello...\n",
    "'''\n",
    "print(mtStr1)\n",
    "print(mtStr2)\n",
    "print(mtStr3)"
   ]
  },
  {
   "cell_type": "code",
   "execution_count": 52,
   "metadata": {},
   "outputs": [
    {
     "name": "stdout",
     "output_type": "stream",
     "text": [
      "손흥민의 나이는 28, 이번 경기 평점은 9.57 입니다\n",
      "오늘은 2020년 7월 6일 입니다.\n"
     ]
    }
   ],
   "source": [
    "# formating\n",
    "# 1.\n",
    "name='손흥민'\n",
    "age=28\n",
    "grade=9.567\n",
    "print('%s의 나이는 %d, 이번 경기 평점은 %0.2f 입니다' %(name, age, grade))\n",
    "\n",
    "#2.\n",
    "import time \n",
    "now = time.localtime()\n",
    "print('오늘은 %d년 %d월 %d일 입니다.' %(now.tm_year, now.tm_mon, now.tm_mday))"
   ]
  },
  {
   "cell_type": "code",
   "execution_count": null,
   "metadata": {},
   "outputs": [],
   "source": []
  },
  {
   "cell_type": "code",
   "execution_count": null,
   "metadata": {},
   "outputs": [],
   "source": []
  },
  {
   "cell_type": "code",
   "execution_count": null,
   "metadata": {},
   "outputs": [],
   "source": []
  },
  {
   "cell_type": "code",
   "execution_count": null,
   "metadata": {},
   "outputs": [],
   "source": []
  }
 ],
 "metadata": {
  "kernelspec": {
   "display_name": "Python 3",
   "language": "python",
   "name": "python3"
  },
  "language_info": {
   "codemirror_mode": {
    "name": "ipython",
    "version": 3
   },
   "file_extension": ".py",
   "mimetype": "text/x-python",
   "name": "python",
   "nbconvert_exporter": "python",
   "pygments_lexer": "ipython3",
   "version": "3.7.6"
  }
 },
 "nbformat": 4,
 "nbformat_minor": 4
}
