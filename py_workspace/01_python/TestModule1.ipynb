{
 "cells": [
  {
   "cell_type": "code",
   "execution_count": 1,
   "metadata": {},
   "outputs": [],
   "source": [
    "from myGame import makeLotto,meanGrade\n",
    "\n",
    "\n",
    "# makeLotto(4)\n",
    "\n",
    "# grade = input('학점을 입력하세요')\n",
    "# meanGrade(grade)"
   ]
  },
  {
   "cell_type": "code",
   "execution_count": 2,
   "metadata": {},
   "outputs": [],
   "source": [
    "def newGame():\n",
    "    menu = input('실행할 함수를 고르세요 \\n 1.로또함수 \\n2.학점평균 함수\\n')\n",
    "    if menu=='1':\n",
    "        makeLotto(int(input('로또번호 횟수를 입력하세요')))\n",
    "    elif menu=='2':\n",
    "        grade = input('학점을 입력하세요')\n",
    "        print(meanGrade(grade))"
   ]
  },
  {
   "cell_type": "code",
   "execution_count": null,
   "metadata": {},
   "outputs": [],
   "source": [
    "newGame()"
   ]
  }
 ],
 "metadata": {
  "kernelspec": {
   "display_name": "Python 3",
   "language": "python",
   "name": "python3"
  },
  "language_info": {
   "codemirror_mode": {
    "name": "ipython",
    "version": 3
   },
   "file_extension": ".py",
   "mimetype": "text/x-python",
   "name": "python",
   "nbconvert_exporter": "python",
   "pygments_lexer": "ipython3",
   "version": "3.7.6"
  }
 },
 "nbformat": 4,
 "nbformat_minor": 4
}
