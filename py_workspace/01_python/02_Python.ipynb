{
 "cells": [
  {
   "cell_type": "markdown",
   "metadata": {},
   "source": [
    "## 문자열\n",
    "인덱스, 슬라이싱"
   ]
  },
  {
   "cell_type": "code",
   "execution_count": 1,
   "metadata": {},
   "outputs": [
    {
     "data": {
      "text/plain": [
       "'Rainy'"
      ]
     },
     "execution_count": 1,
     "metadata": {},
     "output_type": "execute_result"
    }
   ],
   "source": [
    "# PDF Page 2-40...슬라이싱 해서 문자열 추출하기\n",
    "\n",
    "str = '20180522Rainy'\n",
    "date = str[:8]\n",
    "weather = str[8:]\n",
    "\n",
    "date\n",
    "weather"
   ]
  },
  {
   "cell_type": "code",
   "execution_count": 2,
   "metadata": {},
   "outputs": [
    {
     "name": "stdout",
     "output_type": "stream",
     "text": [
      "['기생충', ' 1987', ' 킹덤', ' 스타워즈', ' 쥬라기공원']\n"
     ]
    },
    {
     "data": {
      "text/plain": [
       "'기생충 1987 킹덤 스타워즈 쥬라기공원'"
      ]
     },
     "execution_count": 2,
     "metadata": {},
     "output_type": "execute_result"
    }
   ],
   "source": [
    "# split() 함수와 join() 함수의 사용방법\n",
    "# split()를 통해서 쪼개어진 문자열들은 리스트형태로 반환\n",
    "# join()은 특정한 구분자로 나눠져 있는 리스트 자료형을 하나의 문자열로 만들어서 반환\n",
    "\n",
    "movies='기생충, 1987, 킹덤, 스타워즈, 쥬라기공원'\n",
    "movieL = movies.split(',')\n",
    "print(movieL) #[]\n",
    "\n",
    "movie=''\n",
    "movie.join(movieL)"
   ]
  },
  {
   "cell_type": "markdown",
   "metadata": {},
   "source": [
    "# 리스트 생성, 수정, 삭제, 추가"
   ]
  },
  {
   "cell_type": "code",
   "execution_count": 3,
   "metadata": {},
   "outputs": [
    {
     "name": "stdout",
     "output_type": "stream",
     "text": [
      "[]\n",
      "0\n"
     ]
    },
    {
     "data": {
      "text/plain": [
       "[2, 5, 3, 10, 4]"
      ]
     },
     "execution_count": 3,
     "metadata": {},
     "output_type": "execute_result"
    }
   ],
   "source": [
    "# 1. 리스트 생성\n",
    "myList = [2,5,3,10,4]\n",
    "myList1 = []\n",
    "myList2 = list()\n",
    "\n",
    "print(myList2)\n",
    "\n",
    "print(len(myList1))\n",
    "myList1.extend(myList) #확장됨\n",
    "myList1"
   ]
  },
  {
   "cell_type": "code",
   "execution_count": 4,
   "metadata": {},
   "outputs": [
    {
     "data": {
      "text/plain": [
       "[2, 5, 3, -10, 4]"
      ]
     },
     "execution_count": 4,
     "metadata": {},
     "output_type": "execute_result"
    }
   ],
   "source": [
    "#2. 수정\n",
    "myList[3] = -10\n",
    "myList"
   ]
  },
  {
   "cell_type": "code",
   "execution_count": 5,
   "metadata": {},
   "outputs": [
    {
     "data": {
      "text/plain": [
       "[2, 5, 3, -10, -100, 4, -100]"
      ]
     },
     "execution_count": 5,
     "metadata": {},
     "output_type": "execute_result"
    }
   ],
   "source": [
    "# #3. 추가.... append(), insert()\n",
    "# myList.append(100) #맨 뒷부분에 추가됨\n",
    "# myList\n",
    "\n",
    "#가장 마지막에 -100을 추가\n",
    "myList.insert(-1,-100) #안됨\n",
    "myList.insert(len(myList), -100)\n",
    "myList"
   ]
  },
  {
   "cell_type": "code",
   "execution_count": 6,
   "metadata": {},
   "outputs": [],
   "source": [
    "# 4. 삭제하기\n",
    "'''\n",
    "del\n",
    "remove\n",
    "pop\n",
    "'''\n",
    "del(myList)"
   ]
  },
  {
   "cell_type": "markdown",
   "metadata": {},
   "source": [
    "# 리스트에서 값 추출하기"
   ]
  },
  {
   "cell_type": "code",
   "execution_count": 7,
   "metadata": {},
   "outputs": [
    {
     "data": {
      "text/plain": [
       "'\\n매직명령어\\n%로 시작한다.\\n%whos : 지금까지 사용한 객체변수명과 그에 해당하는 간단한 정보를 확인\\n%who : 지금까지 사용한 객체변수의 리스트만 보여줌\\n'"
      ]
     },
     "execution_count": 7,
     "metadata": {},
     "output_type": "execute_result"
    }
   ],
   "source": [
    "'''\n",
    "매직명령어\n",
    "%로 시작한다.\n",
    "%whos : 지금까지 사용한 객체변수명과 그에 해당하는 간단한 정보를 확인\n",
    "%who : 지금까지 사용한 객체변수의 리스트만 보여줌\n",
    "'''\n",
    "#who"
   ]
  },
  {
   "cell_type": "code",
   "execution_count": 8,
   "metadata": {},
   "outputs": [
    {
     "data": {
      "text/plain": [
       "'\\n동일한 이름의 변수 선언시 메모리에서 찾는 순서\\n1) 로컬변수 로컬영역에 저장   ---- 여기를 가장 먼저 찾는다.\\n2) 전역변수는 전역영역에 저장  ---- 여기를 2번째로 찾는다.\\n3) 내장변수는 내장영역에 저장  ---- 여기를 가장 마지막으로 찾는다.\\n---->함수명과 객체변수명을 동일한 이름으로 사용하지 말아라\\n---->restart를 해줘서 이전 메모리 것들을 지우고 다시 올리자.\\n\\n\\n'"
      ]
     },
     "execution_count": 8,
     "metadata": {},
     "output_type": "execute_result"
    }
   ],
   "source": [
    "'''\n",
    "동일한 이름의 변수 선언시 메모리에서 찾는 순서\n",
    "1) 로컬변수 로컬영역에 저장   ---- 여기를 가장 먼저 찾는다.\n",
    "2) 전역변수는 전역영역에 저장  ---- 여기를 2번째로 찾는다.\n",
    "3) 내장변수는 내장영역에 저장  ---- 여기를 가장 마지막으로 찾는다.\n",
    "---->함수명과 객체변수명을 동일한 이름으로 사용하지 말아라\n",
    "---->restart를 해줘서 이전 메모리 것들을 지우고 다시 올리자.\n",
    "\n",
    "\n",
    "'''"
   ]
  },
  {
   "cell_type": "code",
   "execution_count": 9,
   "metadata": {},
   "outputs": [
    {
     "name": "stdout",
     "output_type": "stream",
     "text": [
      "['a', 'b', 'c', 'd']\n",
      "[3, 4, 5]\n"
     ]
    }
   ],
   "source": [
    "aaL = list('abcd')\n",
    "print(aaL)\n",
    "\n",
    "# list = [3,4,5]\n",
    "# print(list)\n",
    "\n",
    "listData = [3,4,5]\n",
    "print(listData)"
   ]
  },
  {
   "cell_type": "markdown",
   "metadata": {},
   "source": [
    "### 문제2"
   ]
  },
  {
   "cell_type": "code",
   "execution_count": 23,
   "metadata": {
    "scrolled": true
   },
   "outputs": [
    {
     "data": {
      "text/plain": [
       "[2, 4, 5, 3, 1]"
      ]
     },
     "execution_count": 23,
     "metadata": {},
     "output_type": "execute_result"
    }
   ],
   "source": [
    "list1 = [1,3,5,4,2]\n",
    "list1[::-1]\n",
    "list1[-1:-6:-1]"
   ]
  },
  {
   "cell_type": "markdown",
   "metadata": {},
   "source": [
    "### 문제3"
   ]
  },
  {
   "cell_type": "code",
   "execution_count": 12,
   "metadata": {},
   "outputs": [
    {
     "data": {
      "text/plain": [
       "'Python is too interesting'"
      ]
     },
     "execution_count": 12,
     "metadata": {},
     "output_type": "execute_result"
    }
   ],
   "source": [
    "list2 = ['Python', 'is', 'too', 'interesting']\n",
    "str1 = ' '\n",
    "str1.join(list2)"
   ]
  },
  {
   "cell_type": "markdown",
   "metadata": {},
   "source": [
    "## 2차원 배열에서 리스트 생성하기"
   ]
  },
  {
   "cell_type": "code",
   "execution_count": 7,
   "metadata": {},
   "outputs": [
    {
     "name": "stdout",
     "output_type": "stream",
     "text": [
      "[[1, 3], [4, 6]]\n",
      "6\n"
     ]
    }
   ],
   "source": [
    "test2D = [[1,3],[4,6]]\n",
    "print(test2D)\n",
    "\n",
    "#6만 출력.... 인덱싱\n",
    "print(test2D[1][1])"
   ]
  },
  {
   "cell_type": "markdown",
   "metadata": {},
   "source": [
    "#### 문제\n",
    "##### test2D = [[1,2,3],[4,5,6],[7,8,9]] 이차원 배열을 생성\n",
    "##### 10이라 값이 [7,8,9] 뒤에 오도록 append(), insert() 둘다 사용해서 작성"
   ]
  },
  {
   "cell_type": "code",
   "execution_count": 17,
   "metadata": {},
   "outputs": [],
   "source": [
    "test2DL =  [[1,2,3],[4,5,6],[7,8,9]]"
   ]
  },
  {
   "cell_type": "code",
   "execution_count": 15,
   "metadata": {},
   "outputs": [
    {
     "data": {
      "text/plain": [
       "[[1, 2, 3], [4, 5, 6], [7, 8, 9], 10]"
      ]
     },
     "execution_count": 15,
     "metadata": {},
     "output_type": "execute_result"
    }
   ],
   "source": [
    "test2DL.append(10)\n",
    "test2DL"
   ]
  },
  {
   "cell_type": "code",
   "execution_count": 19,
   "metadata": {},
   "outputs": [
    {
     "data": {
      "text/plain": [
       "[[1, 2, 3], [4, 5, 6], [7, 8, 9], 10]"
      ]
     },
     "execution_count": 19,
     "metadata": {},
     "output_type": "execute_result"
    }
   ],
   "source": [
    "test2DL.insert(len(test2DL),10)\n",
    "test2DL"
   ]
  },
  {
   "cell_type": "code",
   "execution_count": 20,
   "metadata": {},
   "outputs": [
    {
     "data": {
      "text/plain": [
       "10"
      ]
     },
     "execution_count": 20,
     "metadata": {},
     "output_type": "execute_result"
    }
   ],
   "source": [
    "test2DL.pop()\n",
    "#test2DL.remove(0)"
   ]
  },
  {
   "cell_type": "code",
   "execution_count": 41,
   "metadata": {},
   "outputs": [],
   "source": [
    "# test2DL.remove()\n",
    "# test2DL"
   ]
  },
  {
   "cell_type": "code",
   "execution_count": 21,
   "metadata": {
    "scrolled": true
   },
   "outputs": [
    {
     "data": {
      "text/plain": [
       "[[1, 2, 3], [4, 5, 6], [7, 8, 9]]"
      ]
     },
     "execution_count": 21,
     "metadata": {},
     "output_type": "execute_result"
    }
   ],
   "source": [
    "test2DL"
   ]
  },
  {
   "cell_type": "markdown",
   "metadata": {},
   "source": [
    "#### 문제5.\n",
    "##### myLang = [['hello', 'python'], ['good-bye','c']]를 생성\n",
    "good만 추출해서 출력"
   ]
  },
  {
   "cell_type": "code",
   "execution_count": 25,
   "metadata": {},
   "outputs": [
    {
     "data": {
      "text/plain": [
       "'good-bye'"
      ]
     },
     "execution_count": 25,
     "metadata": {},
     "output_type": "execute_result"
    }
   ],
   "source": [
    "myLang = [['hello', 'python'], ['good-bye','c']]\n",
    "myLang[1][0]"
   ]
  },
  {
   "cell_type": "code",
   "execution_count": 32,
   "metadata": {
    "scrolled": true
   },
   "outputs": [
    {
     "name": "stdout",
     "output_type": "stream",
     "text": [
      "good\n",
      "good\n"
     ]
    }
   ],
   "source": [
    "print(myLang[1][0][:4])\n",
    "print(myLang[1][0].split('-')[0])"
   ]
  },
  {
   "cell_type": "code",
   "execution_count": 40,
   "metadata": {},
   "outputs": [
    {
     "name": "stdout",
     "output_type": "stream",
     "text": [
      "True\n",
      "False\n",
      "None\n"
     ]
    }
   ],
   "source": [
    "sortL = [3,1,5,2,10]\n",
    "sortL\n",
    "sortL.sort()\n",
    "sortL\n",
    "sortL.sort?\n",
    "sortL.sort(reverse=True)\n",
    "sortL\n",
    "\n",
    "print(5 in sortL)\n",
    "print(500 in sortL) #해당하는 값이 리스트안에 있는지의 여부\n",
    "\n",
    "print(sortL.sort())"
   ]
  },
  {
   "cell_type": "code",
   "execution_count": null,
   "metadata": {},
   "outputs": [],
   "source": []
  },
  {
   "cell_type": "code",
   "execution_count": null,
   "metadata": {},
   "outputs": [],
   "source": []
  },
  {
   "cell_type": "code",
   "execution_count": null,
   "metadata": {},
   "outputs": [],
   "source": []
  },
  {
   "cell_type": "code",
   "execution_count": null,
   "metadata": {},
   "outputs": [],
   "source": []
  },
  {
   "cell_type": "code",
   "execution_count": null,
   "metadata": {},
   "outputs": [],
   "source": []
  },
  {
   "cell_type": "code",
   "execution_count": null,
   "metadata": {},
   "outputs": [],
   "source": []
  },
  {
   "cell_type": "code",
   "execution_count": null,
   "metadata": {},
   "outputs": [],
   "source": []
  },
  {
   "cell_type": "code",
   "execution_count": null,
   "metadata": {},
   "outputs": [],
   "source": []
  },
  {
   "cell_type": "code",
   "execution_count": null,
   "metadata": {},
   "outputs": [],
   "source": []
  },
  {
   "cell_type": "code",
   "execution_count": null,
   "metadata": {},
   "outputs": [],
   "source": []
  }
 ],
 "metadata": {
  "kernelspec": {
   "display_name": "Python 3",
   "language": "python",
   "name": "python3"
  },
  "language_info": {
   "codemirror_mode": {
    "name": "ipython",
    "version": 3
   },
   "file_extension": ".py",
   "mimetype": "text/x-python",
   "name": "python",
   "nbconvert_exporter": "python",
   "pygments_lexer": "ipython3",
   "version": "3.7.6"
  }
 },
 "nbformat": 4,
 "nbformat_minor": 4
}
