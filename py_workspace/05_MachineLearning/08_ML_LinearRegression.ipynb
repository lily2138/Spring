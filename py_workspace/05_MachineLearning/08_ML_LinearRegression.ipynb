{
 "cells": [
  {
   "cell_type": "markdown",
   "metadata": {},
   "source": [
    "## 선형회귀(Linear Regression) - 심화"
   ]
  },
  {
   "cell_type": "markdown",
   "metadata": {},
   "source": [
    "#### Linear Regression을 활용하여 섭씨온도(C, Celsius)를 화씨온도(F, Fahrenheit)로 변환해주는 공식을 만들수 있다. \n",
    "섭씨온도과 화씨온도의 관계는 앞에서 우리가 살펴보았던 선형회귀의 관계를 가지고 있다.\n",
    "#### H(x) = aX + b 에서처럼, F = C*1.8 +32 \n",
    "이때, 1.8과 32라는 값을 모르고 있다고 가정하고, 머신러닝 알고리즘을 이용해서 주어진 섭씨 온도와 화씨온도 데이타 만으로 이 값들을 찾아내는 실습을 진행해보도록 하겠다.\n",
    "Chain Rule 증명 ----> 구글 검색 하면 여기에 사용되는 증명 공식들,,미분, 편미분..공식들이 나온다.참조바람"
   ]
  },
  {
   "cell_type": "markdown",
   "metadata": {},
   "source": [
    "### Configuration (or prerequisite)"
   ]
  },
  {
   "cell_type": "code",
   "execution_count": 1,
   "metadata": {},
   "outputs": [],
   "source": [
    "%matplotlib inline\n",
    "import numpy as np\n",
    "import pandas as pd\n",
    "import matplotlib.pyplot as plt"
   ]
  },
  {
   "cell_type": "markdown",
   "metadata": {},
   "source": [
    "### Generate Dataset"
   ]
  },
  {
   "cell_type": "markdown",
   "metadata": {},
   "source": [
    "#### 선형회귀 문제를 다루기 위한 학습용 데이타셋을 생성\n",
    "0도에서 100도 사이의 값을 갖는 섭씨온도 데이타를 100개 만들어보자\n",
    "이 데이타가 해당 머신러닝 알고리즘에서 사실상 Feature가 될 것이다."
   ]
  },
  {
   "cell_type": "markdown",
   "metadata": {},
   "source": [
    "### 섭씨온도 데이타에 상응하는 화씨온도를 생성\n",
    "#### 우리가 알고있던 기존의 섭씨-화씨변환 공식을 적용해서 위 섭씨온도 데이타에 대응하는 화씨온도 데이타를 생성. \n",
    "이 데이타가 오늘 다룰 학습 모델 알고리즘의 Label이 될 것이다."
   ]
  },
  {
   "cell_type": "markdown",
   "metadata": {},
   "source": [
    "### Bias (편향 찾기) -- Weight는 1.8"
   ]
  },
  {
   "cell_type": "markdown",
   "metadata": {},
   "source": [
    "#### Weight는 1.8로 주고 Bias를 직관적으로 한번 찾아보겠다."
   ]
  },
  {
   "cell_type": "code",
   "execution_count": 3,
   "metadata": {},
   "outputs": [
    {
     "data": {
      "text/plain": [
       "array([88, 78, 60, 95, 91, 12, 20,  5,  6, 51, 23, 95, 69, 83, 30, 44, 60,\n",
       "       72, 68, 46, 51, 59, 73, 59, 71, 58,  0, 48, 20, 14, 45, 29, 42, 21,\n",
       "       21, 31,  6, 20,  1, 74, 99,  0, 12, 36, 34,  0, 36, 30, 69, 64, 66,\n",
       "       53, 73, 41, 96, 38,  9, 84, 10,  0, 14, 80, 63, 93, 70, 54, 94, 52,\n",
       "       52, 18, 96,  4, 77, 60, 13, 53, 69, 89, 47,  1, 52, 10, 97,  9, 81,\n",
       "       12, 93, 58, 46, 80, 24, 90, 21, 47, 53, 51, 21, 84, 52, 74])"
      ]
     },
     "execution_count": 3,
     "metadata": {},
     "output_type": "execute_result"
    }
   ],
   "source": [
    "C = np.random.randint(0, 101, 100)   #low, high, size \n",
    "C"
   ]
  },
  {
   "cell_type": "code",
   "execution_count": 5,
   "metadata": {},
   "outputs": [
    {
     "name": "stdout",
     "output_type": "stream",
     "text": [
      "(100,)\n"
     ]
    },
    {
     "data": {
      "text/plain": [
       "array([88, 78, 60, 95, 91, 12, 20,  5,  6, 51])"
      ]
     },
     "execution_count": 5,
     "metadata": {},
     "output_type": "execute_result"
    }
   ],
   "source": [
    "print(C.shape)\n",
    "C[:10]"
   ]
  },
  {
   "cell_type": "markdown",
   "metadata": {},
   "source": [
    "#### 섭씨온도에 상응하는 화씨온도를 생성\n",
    "    우리가 알고있는 기존의 섭씨 화씨 변환공식을 적용하기 위해서 화씨온도를 생성\n",
    "    이 데이터가 오늘 다룰 학습모델의 라벨이 된다."
   ]
  },
  {
   "cell_type": "code",
   "execution_count": 6,
   "metadata": {},
   "outputs": [
    {
     "data": {
      "text/plain": [
       "array([190.4, 172.4, 140. , 203. , 195.8,  53.6,  68. ,  41. ,  42.8,\n",
       "       123.8,  73.4, 203. , 156.2, 181.4,  86. , 111.2, 140. , 161.6,\n",
       "       154.4, 114.8, 123.8, 138.2, 163.4, 138.2, 159.8, 136.4,  32. ,\n",
       "       118.4,  68. ,  57.2, 113. ,  84.2, 107.6,  69.8,  69.8,  87.8,\n",
       "        42.8,  68. ,  33.8, 165.2, 210.2,  32. ,  53.6,  96.8,  93.2,\n",
       "        32. ,  96.8,  86. , 156.2, 147.2, 150.8, 127.4, 163.4, 105.8,\n",
       "       204.8, 100.4,  48.2, 183.2,  50. ,  32. ,  57.2, 176. , 145.4,\n",
       "       199.4, 158. , 129.2, 201.2, 125.6, 125.6,  64.4, 204.8,  39.2,\n",
       "       170.6, 140. ,  55.4, 127.4, 156.2, 192.2, 116.6,  33.8, 125.6,\n",
       "        50. , 206.6,  48.2, 177.8,  53.6, 199.4, 136.4, 114.8, 176. ,\n",
       "        75.2, 194. ,  69.8, 116.6, 127.4, 123.8,  69.8, 183.2, 125.6,\n",
       "       165.2])"
      ]
     },
     "execution_count": 6,
     "metadata": {},
     "output_type": "execute_result"
    }
   ],
   "source": [
    "F = C*1.8+32\n",
    "F"
   ]
  },
  {
   "cell_type": "code",
   "execution_count": 7,
   "metadata": {},
   "outputs": [
    {
     "name": "stdout",
     "output_type": "stream",
     "text": [
      "(100,)\n"
     ]
    },
    {
     "data": {
      "text/plain": [
       "array([190.4, 172.4, 140. , 203. , 195.8,  53.6,  68. ,  41. ,  42.8,\n",
       "       123.8])"
      ]
     },
     "execution_count": 7,
     "metadata": {},
     "output_type": "execute_result"
    }
   ],
   "source": [
    "print(F.shape)\n",
    "F[:10]"
   ]
  },
  {
   "cell_type": "markdown",
   "metadata": {},
   "source": [
    "### Visualization\n",
    "    위에서 우리가 만든 feature와 label을 직관적으로 확인할 수 있는 선형을 일단 그려놓자"
   ]
  },
  {
   "cell_type": "code",
   "execution_count": 9,
   "metadata": {},
   "outputs": [
    {
     "data": {
      "image/png": "[encoded data removed]",
      "text/plain": [
       "<Figure size 432x288 with 1 Axes>"
      ]
     },
     "metadata": {
      "needs_background": "light"
     },
     "output_type": "display_data"
    }
   ],
   "source": [
    "plt.scatter(C,F)\n",
    "plt.xlabel(\"Celcius Temperature\")\n",
    "plt.ylabel(\"Fahrenheit Temperature\")\n",
    "plt.show()"
   ]
  },
  {
   "cell_type": "markdown",
   "metadata": {},
   "source": [
    "### Bias(편향찾기)   -- Weight는 1.8"
   ]
  },
  {
   "cell_type": "code",
   "execution_count": 10,
   "metadata": {},
   "outputs": [],
   "source": [
    "X = C\n",
    "y = F    # 라벨이라서 소문자라서 표시...."
   ]
  },
  {
   "cell_type": "code",
   "execution_count": 45,
   "metadata": {},
   "outputs": [
    {
     "data": {
      "text/plain": [
       "(1.8, -0.5658250239510643)"
      ]
     },
     "execution_count": 45,
     "metadata": {},
     "output_type": "execute_result"
    }
   ],
   "source": [
    "w = 1.8    #이 값은 고정\n",
    "b = np.random.uniform(low=-1.0, high=+1.0)\n",
    "\n",
    "w,b"
   ]
  },
  {
   "cell_type": "code",
   "execution_count": 48,
   "metadata": {},
   "outputs": [
    {
     "data": {
      "text/plain": [
       "array([157.83417498, 139.83417498, 107.43417498, 170.43417498,\n",
       "       163.23417498,  21.03417498,  35.43417498,   8.43417498,\n",
       "        10.23417498,  91.23417498])"
      ]
     },
     "execution_count": 48,
     "metadata": {},
     "output_type": "execute_result"
    }
   ],
   "source": [
    "y_predict = w * X + b\n",
    "y_predict[:10]"
   ]
  },
  {
   "cell_type": "code",
   "execution_count": 49,
   "metadata": {},
   "outputs": [
    {
     "data": {
      "image/png": "[encoded data removed]",
      "text/plain": [
       "<Figure size 432x288 with 1 Axes>"
      ]
     },
     "metadata": {
      "needs_background": "light"
     },
     "output_type": "display_data"
    }
   ],
   "source": [
    "plt.scatter(C,F)\n",
    "plt.plot(C, y_predict, c='r')\n",
    "plt.show()"
   ]
  },
  {
   "cell_type": "markdown",
   "metadata": {},
   "source": [
    "### Bias 보정"
   ]
  },
  {
   "cell_type": "code",
   "execution_count": 51,
   "metadata": {},
   "outputs": [
    {
     "data": {
      "text/plain": [
       "32.0"
      ]
     },
     "execution_count": 51,
     "metadata": {},
     "output_type": "execute_result"
    }
   ],
   "source": [
    "b = b-(y_predict-y).mean()\n",
    "b"
   ]
  },
  {
   "cell_type": "markdown",
   "metadata": {},
   "source": [
    "### 새로운 예측"
   ]
  },
  {
   "cell_type": "code",
   "execution_count": 53,
   "metadata": {},
   "outputs": [
    {
     "data": {
      "text/plain": [
       "array([190.4, 172.4, 140. , 203. , 195.8,  53.6,  68. ,  41. ,  42.8,\n",
       "       123.8])"
      ]
     },
     "execution_count": 53,
     "metadata": {},
     "output_type": "execute_result"
    }
   ],
   "source": [
    "y_predict = w*X+b\n",
    "y_predict[:10]"
   ]
  },
  {
   "cell_type": "code",
   "execution_count": 54,
   "metadata": {
    "scrolled": false
   },
   "outputs": [
    {
     "data": {
      "image/png": "[encoded data removed]",
      "text/plain": [
       "<Figure size 432x288 with 1 Axes>"
      ]
     },
     "metadata": {
      "needs_background": "light"
     },
     "output_type": "display_data"
    }
   ],
   "source": [
    "plt.scatter(C,F)\n",
    "plt.plot(C, y_predict, c='r')\n",
    "plt.show()"
   ]
  },
  {
   "cell_type": "markdown",
   "metadata": {},
   "source": [
    "### 정규분포에 해당하는 weight과 Bias값을 랜덤하게 초기화\n",
    "    실제값과 예측한 결과값 사이에 오차가 발생할 것이다.\n",
    "    오차를 줄여가야 한다.... Loss Function이 0에 가까워지도록 학습을 진행해야한다."
   ]
  },
  {
   "cell_type": "code",
   "execution_count": 60,
   "metadata": {},
   "outputs": [
    {
     "data": {
      "text/plain": [
       "(0.5250133351073316, -0.7938009171895897)"
      ]
     },
     "execution_count": 60,
     "metadata": {},
     "output_type": "execute_result"
    }
   ],
   "source": [
    "w = np.random.uniform(low=-1.0, high=1.0)\n",
    "b = np.random.uniform(low=-1.0, high=1.0)\n",
    "w,b"
   ]
  },
  {
   "cell_type": "code",
   "execution_count": 62,
   "metadata": {},
   "outputs": [
    {
     "data": {
      "text/plain": [
       "array([45.40737257, 40.15723922, 30.70699919, 49.08246592, 46.98241258,\n",
       "        5.5063591 ,  9.70646578,  1.83126576,  2.35627909, 25.98187917])"
      ]
     },
     "execution_count": 62,
     "metadata": {},
     "output_type": "execute_result"
    }
   ],
   "source": [
    "y_predict = w*X + b\n",
    "y_predict[:10]"
   ]
  },
  {
   "cell_type": "code",
   "execution_count": 63,
   "metadata": {},
   "outputs": [
    {
     "data": {
      "image/png": "[encoded data removed]",
      "text/plain": [
       "<Figure size 432x288 with 1 Axes>"
      ]
     },
     "metadata": {
      "needs_background": "light"
     },
     "output_type": "display_data"
    }
   ],
   "source": [
    "plt.scatter(C,F)\n",
    "plt.plot(C, y_predict, c='r')\n",
    "plt.show()"
   ]
  },
  {
   "cell_type": "code",
   "execution_count": null,
   "metadata": {},
   "outputs": [],
   "source": []
  },
  {
   "cell_type": "markdown",
   "metadata": {},
   "source": [
    "### Gradient Descent"
   ]
  },
  {
   "cell_type": "markdown",
   "metadata": {},
   "source": [
    "### 가중치(Weight, W), 편향(Bias, B) 찾기\n",
    "#### 이제 경사하강법(Gradient Descent)을 사용하여 섭씨온도를 화씨온도로 변환해줄 주 있는 공식을 찾아보겠다.\n",
    "공식의 세부내용은 모른다치고, 두 변수(X,y)가 선형(Linear)과 관계있음을 가정(y=X * w + b)하여 가중치(weight)와 편차(bias)를 정의해 둔다. 그리고 경사하강법을 이용해서 선형회귀를 학습시킨다.\n",
    "학습이 완료되면, 얻어진 최적의 가중치와 편차로 섭씨온도를 화씨온도로 변환해주는 공식을 만들어 줄수 있다.\n",
    "학습은 모든 epoch이 끝날 때까지 반복할 수도 있지만, 여기선 오차(error)가 0.1 이하가 되면 학습을 종료하도록 한다."
   ]
  },
  {
   "cell_type": "code",
   "execution_count": 74,
   "metadata": {
    "scrolled": true
   },
   "outputs": [
    {
     "name": "stdout",
     "output_type": "stream",
     "text": [
      "    0 w=2.198832, b=0.233, error120.141\n",
      "10000 w=2.012035, b=17.913, error6.020\n",
      "20000 w=1.894030, b=25.753, error2.669\n",
      "30000 w=1.841699, b=29.230, error1.184\n",
      "40000 w=1.818492, b=30.771, error0.525\n",
      "50000 w=1.808201, b=31.455, error0.233\n",
      "60000 w=1.803637, b=31.758, error0.103\n",
      "60393\n",
      "------------------------------------------------------------------------------------------------------------------------------------------------------------------------------------\n",
      "60393 w=1.803523, b=31.766, error0.100\n"
     ]
    }
   ],
   "source": [
    "num_epoch = 100000      # 학습 횟수\n",
    "'''\n",
    "이 값이 작을 수록 더욱 w,b값이 미세하게 조정\n",
    "학습하는 시간이 더 오래걸린다.... 더 최적의 값을 차즐 수 있다\n",
    "'''\n",
    "learning_rate = 0.0003   \n",
    "w = np.random.uniform(low=-1.0, high=1.0)\n",
    "b = np.random.uniform(low=-1.0, high=1.0)\n",
    "\n",
    "for epoch in range(num_epoch):\n",
    "    y_predict = w * X + b\n",
    "    \n",
    "    # 현재 오차를 구한다.\n",
    "    error = np.abs(y_predict-y).mean()\n",
    "    \n",
    "    if error <0.1 :\n",
    "        print(epoch)\n",
    "        break\n",
    "        \n",
    "    # w,b값을 보저애 나간다...미분, 편미분....\n",
    "    # learning_rate *((y_predict-y)*X).mean\n",
    "    w = w-learning_rate*((y_predict-y)*X).mean()\n",
    "    b = b-learning_rate*(y_predict-y).mean()\n",
    "    \n",
    "    # 10000회마다 epoch,w,b,error(loss)를 출력해서 점점 값들이 어떤 양상을....\n",
    "    if epoch % 10000==0:\n",
    "        print(f'{epoch:5} w={w:.6f}, b={b:.3f}, error{error:.3f}')\n",
    "        \n",
    "print('------'*30)\n",
    "print(f'{epoch:5} w={w:.6f}, b={b:.3f}, error{error:.3f}')"
   ]
  },
  {
   "cell_type": "markdown",
   "metadata": {},
   "source": [
    "### Predict"
   ]
  },
  {
   "cell_type": "code",
   "execution_count": 76,
   "metadata": {},
   "outputs": [
    {
     "data": {
      "text/plain": [
       "array([190.47596084, 172.44073428, 139.97732648, 203.10061943,\n",
       "       195.88652881,  53.40823901,  67.83642025,  40.78358042,\n",
       "        42.58710307, 123.74562258])"
      ]
     },
     "execution_count": 76,
     "metadata": {},
     "output_type": "execute_result"
    }
   ],
   "source": [
    "y_predict = w*C + b\n",
    "y_predict[:10]"
   ]
  },
  {
   "cell_type": "markdown",
   "metadata": {},
   "source": [
    "## Visualization"
   ]
  },
  {
   "cell_type": "code",
   "execution_count": 77,
   "metadata": {},
   "outputs": [
    {
     "data": {
      "text/html": [
       "<div>\n",
       "<style scoped>\n",
       "    .dataframe tbody tr th:only-of-type {\n",
       "        vertical-align: middle;\n",
       "    }\n",
       "\n",
       "    .dataframe tbody tr th {\n",
       "        vertical-align: top;\n",
       "    }\n",
       "\n",
       "    .dataframe thead th {\n",
       "        text-align: right;\n",
       "    }\n",
       "</style>\n",
       "<table border=\"1\" class=\"dataframe\">\n",
       "  <thead>\n",
       "    <tr style=\"text-align: right;\">\n",
       "      <th></th>\n",
       "      <th>C</th>\n",
       "      <th>F</th>\n",
       "      <th>F(predict)</th>\n",
       "    </tr>\n",
       "  </thead>\n",
       "  <tbody>\n",
       "    <tr>\n",
       "      <th>0</th>\n",
       "      <td>88</td>\n",
       "      <td>190.4</td>\n",
       "      <td>190.475961</td>\n",
       "    </tr>\n",
       "    <tr>\n",
       "      <th>1</th>\n",
       "      <td>78</td>\n",
       "      <td>172.4</td>\n",
       "      <td>172.440734</td>\n",
       "    </tr>\n",
       "    <tr>\n",
       "      <th>2</th>\n",
       "      <td>60</td>\n",
       "      <td>140.0</td>\n",
       "      <td>139.977326</td>\n",
       "    </tr>\n",
       "    <tr>\n",
       "      <th>3</th>\n",
       "      <td>95</td>\n",
       "      <td>203.0</td>\n",
       "      <td>203.100619</td>\n",
       "    </tr>\n",
       "    <tr>\n",
       "      <th>4</th>\n",
       "      <td>91</td>\n",
       "      <td>195.8</td>\n",
       "      <td>195.886529</td>\n",
       "    </tr>\n",
       "    <tr>\n",
       "      <th>5</th>\n",
       "      <td>12</td>\n",
       "      <td>53.6</td>\n",
       "      <td>53.408239</td>\n",
       "    </tr>\n",
       "    <tr>\n",
       "      <th>6</th>\n",
       "      <td>20</td>\n",
       "      <td>68.0</td>\n",
       "      <td>67.836420</td>\n",
       "    </tr>\n",
       "    <tr>\n",
       "      <th>7</th>\n",
       "      <td>5</td>\n",
       "      <td>41.0</td>\n",
       "      <td>40.783580</td>\n",
       "    </tr>\n",
       "    <tr>\n",
       "      <th>8</th>\n",
       "      <td>6</td>\n",
       "      <td>42.8</td>\n",
       "      <td>42.587103</td>\n",
       "    </tr>\n",
       "    <tr>\n",
       "      <th>9</th>\n",
       "      <td>51</td>\n",
       "      <td>123.8</td>\n",
       "      <td>123.745623</td>\n",
       "    </tr>\n",
       "  </tbody>\n",
       "</table>\n",
       "</div>"
      ],
      "text/plain": [
       "    C      F  F(predict)\n",
       "0  88  190.4  190.475961\n",
       "1  78  172.4  172.440734\n",
       "2  60  140.0  139.977326\n",
       "3  95  203.0  203.100619\n",
       "4  91  195.8  195.886529\n",
       "5  12   53.6   53.408239\n",
       "6  20   68.0   67.836420\n",
       "7   5   41.0   40.783580\n",
       "8   6   42.8   42.587103\n",
       "9  51  123.8  123.745623"
      ]
     },
     "execution_count": 77,
     "metadata": {},
     "output_type": "execute_result"
    }
   ],
   "source": [
    "result = pd.DataFrame({'C':C, 'F':F, 'F(predict)':y_predict})\n",
    "result.head(10)"
   ]
  },
  {
   "cell_type": "code",
   "execution_count": 78,
   "metadata": {},
   "outputs": [
    {
     "data": {
      "text/plain": [
       "[<matplotlib.lines.Line2D at 0x276b0692288>]"
      ]
     },
     "execution_count": 78,
     "metadata": {},
     "output_type": "execute_result"
    },
    {
     "data": {
      "image/png": "[encoded data removed]",
      "text/plain": [
       "<Figure size 432x288 with 1 Axes>"
      ]
     },
     "metadata": {
      "needs_background": "light"
     },
     "output_type": "display_data"
    }
   ],
   "source": [
    "plt.scatter(C,F)\n",
    "plt.plot(C, y_predict, c='r')"
   ]
  },
  {
   "cell_type": "markdown",
   "metadata": {},
   "source": [
    "#### 선형 회귀의 학습이 끝났으면, 이제 이 머신러닝 알고리즘을 활용하여 변환공식을 완성하고, 주어진 섭씨온도를 화씨온도로 변환(혹은 섭씨온도로 화씨온도를 예측)할 수 있습니다. 앞서 만들어준 데이터를 그대로 활용하여 주어진 섭씨온도(C)로 화씨온도를 예측해보겠습니다."
   ]
  },
  {
   "cell_type": "code",
   "execution_count": null,
   "metadata": {},
   "outputs": [],
   "source": []
  },
  {
   "cell_type": "code",
   "execution_count": null,
   "metadata": {},
   "outputs": [],
   "source": []
  },
  {
   "cell_type": "code",
   "execution_count": null,
   "metadata": {},
   "outputs": [],
   "source": []
  },
  {
   "cell_type": "code",
   "execution_count": null,
   "metadata": {},
   "outputs": [],
   "source": []
  },
  {
   "cell_type": "code",
   "execution_count": null,
   "metadata": {},
   "outputs": [],
   "source": []
  },
  {
   "cell_type": "code",
   "execution_count": null,
   "metadata": {},
   "outputs": [],
   "source": []
  },
  {
   "cell_type": "code",
   "execution_count": null,
   "metadata": {},
   "outputs": [],
   "source": []
  },
  {
   "cell_type": "code",
   "execution_count": null,
   "metadata": {},
   "outputs": [],
   "source": []
  },
  {
   "cell_type": "code",
   "execution_count": null,
   "metadata": {},
   "outputs": [],
   "source": []
  },
  {
   "cell_type": "code",
   "execution_count": null,
   "metadata": {},
   "outputs": [],
   "source": []
  }
 ],
 "metadata": {
  "kernelspec": {
   "display_name": "Python 3",
   "language": "python",
   "name": "python3"
  },
  "language_info": {
   "codemirror_mode": {
    "name": "ipython",
    "version": 3
   },
   "file_extension": ".py",
   "mimetype": "text/x-python",
   "name": "python",
   "nbconvert_exporter": "python",
   "pygments_lexer": "ipython3",
   "version": "3.7.7"
  }
 },
 "nbformat": 4,
 "nbformat_minor": 4
}
