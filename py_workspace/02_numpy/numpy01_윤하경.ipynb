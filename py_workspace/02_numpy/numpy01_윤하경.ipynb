{
 "cells": [
  {
   "cell_type": "markdown",
   "metadata": {},
   "source": [
    "# 계단오르내리기 예제"
   ]
  },
  {
   "cell_type": "code",
   "execution_count": 42,
   "metadata": {},
   "outputs": [],
   "source": [
    "import numpy as np \n",
    "np.random.seed(888)"
   ]
  },
  {
   "cell_type": "code",
   "execution_count": 43,
   "metadata": {},
   "outputs": [
    {
     "data": {
      "text/plain": [
       "array([0, 0, 1, 1, 0, 1, 1, 0, 1, 0, 1, 1, 0, 1, 0, 0, 1, 1, 0, 0, 0, 1,\n",
       "       0, 0, 0, 0, 1, 0, 1, 1, 0, 0, 0, 1, 0, 0, 1, 1, 0, 0, 0, 0, 1, 1,\n",
       "       0, 0, 0, 0, 1, 1, 0, 1, 1, 0, 0, 0, 0, 1, 0, 0, 0, 0, 0, 1, 0, 1,\n",
       "       1, 0, 0, 1, 1, 1, 0, 0, 1, 0, 0, 0, 1, 0, 1, 0, 0, 1, 0, 0, 0, 0,\n",
       "       1, 1, 1, 1, 0, 0, 1, 0, 1, 0, 0, 0, 1, 1, 1, 0, 0, 1, 1, 0, 0, 1,\n",
       "       1, 0, 0, 0, 0, 1, 1, 0, 0, 0, 0, 1, 1, 0, 1, 0, 1, 0, 1, 0, 0, 0,\n",
       "       0, 1, 1, 1, 0, 1, 1, 0, 1, 1, 1, 1, 1, 0, 0, 1, 1, 1, 0, 1, 1, 1,\n",
       "       1, 0, 1, 1, 1, 0, 0, 0, 0, 1, 0, 1, 1, 0, 0, 1, 0, 1, 0, 0, 1, 1,\n",
       "       0, 0, 0, 1, 1, 0, 1, 0, 0, 0, 0, 1, 0, 0, 0, 1, 0, 1, 0, 0, 0, 1,\n",
       "       0, 0, 1, 0, 1, 1, 0, 1, 0, 0, 1, 0, 1, 1, 0, 0, 1, 1, 1, 0, 0, 1,\n",
       "       0, 0, 1, 1, 0, 1, 1, 0, 0, 0, 0, 0, 0, 1, 0, 0, 1, 1, 1, 1, 0, 1,\n",
       "       1, 1, 1, 1, 0, 0, 0, 0, 0, 0, 0, 1, 0, 0, 1, 1, 1, 1, 0, 0, 1, 1,\n",
       "       1, 1, 1, 0, 0, 0, 0, 0, 1, 1, 0, 0, 0, 0, 1, 1, 0, 0, 1, 1, 0, 1,\n",
       "       0, 0, 0, 1, 0, 1, 1, 1, 0, 0, 0, 0, 1, 0, 0, 1, 1, 0, 0, 0, 1, 1,\n",
       "       0, 0, 1, 0, 1, 1, 0, 1, 0, 1, 1, 0, 1, 0, 0, 0, 0, 1, 1, 0, 1, 0,\n",
       "       1, 1, 1, 0, 0, 1, 1, 1, 1, 0, 0, 0, 0, 1, 0, 1, 1, 1, 0, 1, 1, 0,\n",
       "       0, 0, 1, 0, 0, 0, 1, 1, 1, 1, 0, 1, 0, 0, 0, 0, 0, 1, 1, 1, 0, 1,\n",
       "       0, 0, 1, 1, 0, 1, 0, 0, 1, 0, 1, 1, 0, 1, 0, 0, 0, 1, 0, 0, 1, 1,\n",
       "       1, 0, 1, 1, 1, 0, 0, 1, 0, 1, 1, 0, 0, 1, 0, 1, 1, 0, 0, 0, 0, 1,\n",
       "       0, 0, 0, 0, 1, 1, 1, 1, 1, 0, 0, 1, 1, 1, 1, 0, 0, 1, 1, 1, 1, 1,\n",
       "       1, 0, 0, 0, 0, 0, 0, 1, 1, 1, 1, 0, 0, 1, 0, 1, 0, 1, 1, 1, 0, 1,\n",
       "       1, 0, 1, 1, 0, 1, 1, 0, 0, 1, 0, 1, 1, 0, 1, 0, 0, 0, 1, 0, 0, 0,\n",
       "       0, 0, 1, 1, 1, 1, 0, 1, 1, 0, 1, 0, 0, 1, 1, 0, 1, 1, 0, 0, 0, 0,\n",
       "       0, 1, 0, 1, 1, 1, 0, 1, 0, 1, 1, 0, 0, 1, 1, 0, 0, 1, 0, 1, 1, 0,\n",
       "       1, 1, 0, 0, 1, 0, 1, 1, 0, 0, 1, 1, 1, 1, 1, 0, 1, 1, 0, 0, 0, 0,\n",
       "       0, 0, 1, 0, 1, 0, 1, 1, 1, 0, 1, 1, 0, 0, 1, 1, 1, 1, 1, 1, 0, 1,\n",
       "       0, 1, 0, 0, 1, 0, 0, 1, 0, 0, 1, 0, 0, 0, 0, 1, 0, 1, 1, 0, 1, 0,\n",
       "       1, 1, 1, 0, 1, 0, 0, 1, 1, 1, 0, 1, 0, 0, 1, 0, 0, 1, 1, 0, 0, 1,\n",
       "       1, 1, 1, 0, 1, 1, 1, 1, 0, 1, 1, 0, 1, 0, 1, 1, 0, 1, 0, 0, 1, 1,\n",
       "       1, 0, 1, 1, 0, 1, 0, 0, 0, 1, 1, 1, 1, 0, 0, 1, 0, 0, 1, 1, 0, 0,\n",
       "       1, 0, 1, 0, 1, 1, 1, 0, 1, 1, 0, 0, 0, 1, 0, 1, 0, 0, 0, 1, 1, 1,\n",
       "       1, 1, 0, 1, 0, 1, 0, 0, 0, 0, 0, 0, 1, 0, 1, 1, 0, 0, 1, 1, 0, 0,\n",
       "       1, 0, 1, 0, 0, 1, 0, 0, 0, 1, 1, 0, 0, 0, 1, 0, 1, 1, 0, 1, 0, 1,\n",
       "       1, 0, 0, 1, 0, 1, 0, 1, 0, 1, 0, 0, 1, 0, 1, 0, 0, 1, 1, 1, 1, 1,\n",
       "       1, 1, 1, 0, 1, 1, 0, 0, 1, 0, 0, 0, 0, 1, 0, 0, 1, 0, 1, 1, 1, 0,\n",
       "       1, 1, 0, 1, 0, 1, 0, 0, 0, 1, 1, 0, 0, 1, 0, 0, 1, 1, 1, 1, 0, 1,\n",
       "       1, 0, 0, 0, 1, 1, 0, 1, 0, 0, 0, 1, 0, 1, 0, 1, 1, 0, 0, 0, 1, 1,\n",
       "       1, 1, 0, 1, 1, 0, 0, 1, 1, 1, 1, 1, 0, 1, 1, 0, 1, 1, 1, 0, 0, 1,\n",
       "       1, 0, 0, 0, 0, 0, 1, 0, 1, 1, 0, 1, 1, 0, 0, 1, 1, 1, 0, 0, 1, 1,\n",
       "       0, 0, 1, 1, 1, 0, 1, 1, 0, 1, 1, 1, 0, 0, 1, 0, 0, 0, 1, 0, 1, 1,\n",
       "       1, 0, 0, 0, 0, 1, 1, 0, 1, 1, 1, 1, 1, 0, 1, 0, 1, 0, 1, 1, 1, 0,\n",
       "       0, 0, 0, 0, 0, 1, 0, 0, 0, 1, 1, 1, 1, 0, 1, 0, 1, 0, 1, 1, 0, 0,\n",
       "       1, 1, 1, 1, 0, 0, 1, 0, 0, 1, 1, 0, 1, 1, 1, 0, 1, 1, 0, 1, 0, 0,\n",
       "       1, 1, 0, 0, 0, 0, 0, 1, 0, 1, 1, 0, 0, 1, 1, 0, 0, 0, 1, 0, 0, 1,\n",
       "       1, 0, 0, 1, 1, 0, 0, 1, 0, 0, 0, 1, 1, 0, 1, 0, 0, 1, 0, 1, 1, 0,\n",
       "       0, 0, 0, 0, 1, 1, 0, 1, 0, 1])"
      ]
     },
     "execution_count": 43,
     "metadata": {},
     "output_type": "execute_result"
    }
   ],
   "source": [
    "nsteps = 1000 \n",
    "\n",
    "# randint 함수를 사용하여 1000개의 랜덤값(0과 1 )을 만드세요.\n",
    "\n",
    "draws = np.random.randint(0,2,1000)\n",
    "\n",
    "draws"
   ]
  },
  {
   "cell_type": "code",
   "execution_count": 44,
   "metadata": {},
   "outputs": [
    {
     "name": "stdout",
     "output_type": "stream",
     "text": [
      "[ -1  -2  -1   0  -1   0   1   0   1   0   1   2   1   2   1   0   1   2\n",
      "   1   0  -1   0  -1  -2  -3  -4  -3  -4  -3  -2  -3  -4  -5  -4  -5  -6\n",
      "  -5  -4  -5  -6  -7  -8  -7  -6  -7  -8  -9 -10  -9  -8  -9  -8  -7  -8\n",
      "  -9 -10 -11 -10 -11 -12 -13 -14 -15 -14 -15 -14 -13 -14 -15 -14 -13 -12\n",
      " -13 -14 -13 -14 -15 -16 -15 -16 -15 -16 -17 -16 -17 -18 -19 -20 -19 -18\n",
      " -17 -16 -17 -18 -17 -18 -17 -18 -19 -20 -19 -18 -17 -18 -19 -18 -17 -18\n",
      " -19 -18 -17 -18 -19 -20 -21 -20 -19 -20 -21 -22 -23 -22 -21 -22 -21 -22\n",
      " -21 -22 -21 -22 -23 -24 -25 -24 -23 -22 -23 -22 -21 -22 -21 -20 -19 -18\n",
      " -17 -18 -19 -18 -17 -16 -17 -16 -15 -14 -13 -14 -13 -12 -11 -12 -13 -14\n",
      " -15 -14 -15 -14 -13 -14 -15 -14 -15 -14 -15 -16 -15 -14 -15 -16 -17 -16\n",
      " -15 -16 -15 -16 -17 -18 -19 -18 -19 -20 -21 -20 -21 -20 -21 -22 -23 -22\n",
      " -23 -24 -23 -24 -23 -22 -23 -22 -23 -24 -23 -24 -23 -22 -23 -24 -23 -22\n",
      " -21 -22 -23 -22 -23 -24 -23 -22 -23 -22 -21 -22 -23 -24 -25 -26 -27 -26\n",
      " -27 -28 -27 -26 -25 -24 -25 -24 -23 -22 -21 -20 -21 -22 -23 -24 -25 -26\n",
      " -27 -26 -27 -28 -27 -26 -25 -24 -25 -26 -25 -24 -23 -22 -21 -22 -23 -24\n",
      " -25 -26 -25 -24 -25 -26 -27 -28 -27 -26 -27 -28 -27 -26 -27 -26 -27 -28\n",
      " -29 -28 -29 -28 -27 -26 -27 -28 -29 -30 -29 -30 -31 -30 -29 -30 -31 -32\n",
      " -31 -30 -31 -32 -31 -32 -31 -30 -31 -30 -31 -30 -29 -30 -29 -30 -31 -32\n",
      " -33 -32 -31 -32 -31 -32 -31 -30 -29 -30 -31 -30 -29 -28 -27 -28 -29 -30\n",
      " -31 -30 -31 -30 -29 -28 -29 -28 -27 -28 -29 -30 -29 -30 -31 -32 -31 -30\n",
      " -29 -28 -29 -28 -29 -30 -31 -32 -33 -32 -31 -30 -31 -30 -31 -32 -31 -30\n",
      " -31 -30 -31 -32 -31 -32 -31 -30 -31 -30 -31 -32 -33 -32 -33 -34 -33 -32\n",
      " -31 -32 -31 -30 -29 -30 -31 -30 -31 -30 -29 -30 -31 -30 -31 -30 -29 -30\n",
      " -31 -32 -33 -32 -33 -34 -35 -36 -35 -34 -33 -32 -31 -32 -33 -32 -31 -30\n",
      " -29 -30 -31 -30 -29 -28 -27 -26 -25 -26 -27 -28 -29 -30 -31 -30 -29 -28\n",
      " -27 -28 -29 -28 -29 -28 -29 -28 -27 -26 -27 -26 -25 -26 -25 -24 -25 -24\n",
      " -23 -24 -25 -24 -25 -24 -23 -24 -23 -24 -25 -26 -25 -26 -27 -28 -29 -30\n",
      " -29 -28 -27 -26 -27 -26 -25 -26 -25 -26 -27 -26 -25 -26 -25 -24 -25 -26\n",
      " -27 -28 -29 -28 -29 -28 -27 -26 -27 -26 -27 -26 -25 -26 -27 -26 -25 -26\n",
      " -27 -26 -27 -26 -25 -26 -25 -24 -25 -26 -25 -26 -25 -24 -25 -26 -25 -24\n",
      " -23 -22 -21 -22 -21 -20 -21 -22 -23 -24 -25 -26 -25 -26 -25 -26 -25 -24\n",
      " -23 -24 -23 -22 -23 -24 -23 -22 -21 -20 -19 -18 -19 -18 -19 -18 -19 -20\n",
      " -19 -20 -21 -20 -21 -22 -21 -22 -23 -24 -25 -24 -25 -24 -23 -24 -23 -24\n",
      " -23 -22 -21 -22 -21 -22 -23 -22 -21 -20 -21 -20 -21 -22 -21 -22 -23 -22\n",
      " -21 -22 -23 -22 -21 -20 -19 -20 -19 -18 -17 -16 -17 -16 -15 -16 -15 -16\n",
      " -15 -14 -15 -14 -15 -16 -15 -14 -13 -14 -13 -12 -13 -12 -13 -14 -15 -14\n",
      " -13 -12 -11 -12 -13 -12 -13 -14 -13 -12 -13 -14 -13 -14 -13 -14 -13 -12\n",
      " -11 -12 -11 -10 -11 -12 -13 -12 -13 -12 -13 -14 -15 -14 -13 -12 -11 -10\n",
      " -11 -10 -11 -10 -11 -12 -13 -14 -15 -16 -15 -16 -15 -14 -15 -16 -15 -14\n",
      " -15 -16 -15 -16 -15 -16 -17 -16 -17 -18 -19 -18 -17 -18 -19 -20 -19 -20\n",
      " -19 -18 -19 -18 -19 -18 -17 -18 -19 -18 -19 -18 -19 -18 -19 -18 -19 -20\n",
      " -19 -20 -19 -20 -21 -20 -19 -18 -17 -16 -15 -14 -13 -14 -13 -12 -13 -14\n",
      " -13 -14 -15 -16 -17 -16 -17 -18 -17 -18 -17 -16 -15 -16 -15 -14 -15 -14\n",
      " -15 -14 -15 -16 -17 -16 -15 -16 -17 -16 -17 -18 -17 -16 -15 -14 -15 -14\n",
      " -13 -14 -15 -16 -15 -14 -15 -14 -15 -16 -17 -16 -17 -16 -17 -16 -15 -16\n",
      " -17 -18 -17 -16 -15 -14 -15 -14 -13 -14 -15 -14 -13 -12 -11 -10 -11 -10\n",
      "  -9 -10  -9  -8  -7  -8  -9  -8  -7  -8  -9 -10 -11 -12 -11 -12 -11 -10\n",
      " -11 -10  -9 -10 -11 -10  -9  -8  -9 -10  -9  -8  -9 -10  -9  -8  -7  -8\n",
      "  -7  -6  -7  -6  -5  -4  -5  -6  -5  -6  -7  -8  -7  -8  -7  -6  -5  -6\n",
      "  -7  -8  -9  -8  -7  -8  -7  -6  -5  -4  -3  -4  -3  -4  -3  -4  -3  -2\n",
      "  -1  -2  -3  -4  -5  -6  -7  -6  -7  -8  -9  -8  -7  -6  -5  -6  -5  -6\n",
      "  -5  -6  -5  -4  -5  -6  -5  -4  -3  -2  -3  -4  -3  -4  -5  -4  -3  -4\n",
      "  -3  -2  -1  -2  -1   0  -1   0  -1  -2  -1   0  -1  -2  -3  -4  -5  -4\n",
      "  -5  -4  -3  -4  -5  -4  -3  -4  -5  -6  -5  -6  -7  -6  -5  -6  -7  -6\n",
      "  -5  -6  -7  -6  -7  -8  -9  -8  -7  -8  -7  -8  -9  -8  -9  -8  -7  -8\n",
      "  -9 -10 -11 -12 -11 -10 -11 -10 -11 -10]\n"
     ]
    }
   ],
   "source": [
    "# steps은 앞의 draws 값이 0보다 크면 1, 0보다 작거나 같으면 -1으로 만든 새로운 벡터(특정 함수 활용)\n",
    "# walk는 계단을 오르거나 내려간 값의 누적합 \n",
    "\n",
    "steps = np.where(draws>0, 1, -1)\n",
    "walk = np.cumsum(steps, axis=0)\n",
    "# print(steps)\n",
    "print(walk) #누적합"
   ]
  },
  {
   "cell_type": "code",
   "execution_count": 45,
   "metadata": {},
   "outputs": [
    {
     "data": {
      "text/plain": [
       "-36"
      ]
     },
     "execution_count": 45,
     "metadata": {},
     "output_type": "execute_result"
    }
   ],
   "source": [
    "#walk의 최소값 \n",
    "np.min(walk)\n",
    "\n"
   ]
  },
  {
   "cell_type": "code",
   "execution_count": 46,
   "metadata": {},
   "outputs": [
    {
     "data": {
      "text/plain": [
       "2"
      ]
     },
     "execution_count": 46,
     "metadata": {},
     "output_type": "execute_result"
    }
   ],
   "source": [
    "#wark의 최대값 \n",
    "np.max(walk)\n"
   ]
  },
  {
   "cell_type": "code",
   "execution_count": 47,
   "metadata": {},
   "outputs": [
    {
     "name": "stdout",
     "output_type": "stream",
     "text": [
      "[False False False False False False False False False False False False\n",
      " False False False False False False False False False False False False\n",
      " False False False False False False False False False False False False\n",
      " False False False False False False False False False False False  True\n",
      " False False False False False False False  True False  True False False\n",
      " False False False False False False False False False False False False\n",
      " False False False False False False False False False False False False\n",
      " False False False False False False False False False False False False\n",
      " False False False False False False False False False False False False\n",
      " False False False False False False False False False False False False\n",
      " False False False False False False False False False False False False\n",
      " False False False False False False False False False False False False\n",
      " False False False False False False False False False False False False\n",
      " False False False False False False False False False False False False\n",
      " False False False False False False False False False False False False\n",
      " False False False False False False False False False False False False\n",
      " False False False False False False False False False False False False\n",
      " False False False False False False False False False False False False\n",
      " False False False False False False False False False False False False\n",
      " False False False False False False False False False False False False\n",
      " False False False False False False False False False False False False\n",
      " False False False False False False False False False False False False\n",
      " False False False False False False False False False False False False\n",
      " False False False False False False False False False False False False\n",
      " False False False False False False False False False False False False\n",
      " False False False False False False False False False False False False\n",
      " False False False False False False False False False False False False\n",
      " False False False False False False False False False False False False\n",
      " False False False False False False False False False False False False\n",
      " False False False False False False False False False False False False\n",
      " False False False False False False False False False False False False\n",
      " False False False False False False False False False False False False\n",
      " False False False False False False False False False False False False\n",
      " False False False False False False False False False False False False\n",
      " False False False False False False False False False False False False\n",
      " False False False False False False False False False False False False\n",
      " False False False False False False False False False False False False\n",
      " False False False False False False False False False False False False\n",
      " False False False False False False False False False False False False\n",
      " False False False False False False False False False False False False\n",
      " False False False False False False False False False False False False\n",
      " False False False False False False False False False False False False\n",
      " False False False False False False False False False False False False\n",
      " False False False False False False False False False False False False\n",
      " False False False False False False False False False False False False\n",
      " False False False False False False False False False False False False\n",
      " False False False False False False False False False False False False\n",
      " False False False False False False False False False False False False\n",
      " False False False False False False False False False False False False\n",
      " False False False False False False False False False False False False\n",
      " False False False False False False False False False False False False\n",
      " False False False False False False False False False False False False\n",
      " False False False False False False False False False False False False\n",
      " False False False False False False False False False False False False\n",
      " False False False False False False False False False False False False\n",
      " False False False False False False False False False  True False False\n",
      " False False False False False False False False False False False  True\n",
      " False  True False  True False False False False False False False False\n",
      " False False False False False False False False False False False False\n",
      " False False False False False False False False False False False False\n",
      " False False False False False False False False False False False False\n",
      " False False False False False False False False False False False False\n",
      " False False False False False False False False False False False False\n",
      " False False False False False False False False False False False False\n",
      " False False False False False False False False False False False False\n",
      " False False False False False False False False False False False False\n",
      " False False False False False False False False False False False False\n",
      " False False False False False False False False False False False False\n",
      " False False False False False False False False False  True False  True\n",
      " False  True False False False False False False False False False  True\n",
      " False False False False False  True False  True False  True False  True\n",
      " False False False  True False False False  True False False False False\n",
      " False False False False False False False False False False False False\n",
      " False False False False False False False False False False False False\n",
      " False False False False False False False False False False False False\n",
      " False False False False False False False False False False False False\n",
      " False False False False False False False False False False False False\n",
      " False False False False False False False False False False False False\n",
      " False False False False False False False False False False False False\n",
      " False False False False False False False False False False False False\n",
      " False False False False False False False False False False False False\n",
      " False False False False False False False False False False False False\n",
      " False False False False False False False  True False False False  True\n",
      " False  True False  True]\n",
      "47\n"
     ]
    }
   ],
   "source": [
    "# 1. 계단의 처음 위치에서 10칸이상 떨어진 시점을 구하자.\n",
    "#    가. 최초로 10 혹은 -10인 시점을 구한다. \n",
    "#    나. boolean 배열에서 최대값의 처음 색인을 반환하는 함수를 사용\n",
    "\n",
    "bool_ten = ((walk==10) | (walk==-10))\n",
    "print(bool_ten)\n",
    "print(np.where(bool_ten)[0][0])\n",
    "\n"
   ]
  }
 ],
 "metadata": {
  "kernelspec": {
   "display_name": "Python 3",
   "language": "python",
   "name": "python3"
  },
  "language_info": {
   "codemirror_mode": {
    "name": "ipython",
    "version": 3
   },
   "file_extension": ".py",
   "mimetype": "text/x-python",
   "name": "python",
   "nbconvert_exporter": "python",
   "pygments_lexer": "ipython3",
   "version": "3.7.6"
  }
 },
 "nbformat": 4,
 "nbformat_minor": 2
}
