{
 "cells": [
  {
   "cell_type": "markdown",
   "metadata": {},
   "source": [
    "### 인덱싱, 슬라이싱"
   ]
  },
  {
   "cell_type": "code",
   "execution_count": 3,
   "metadata": {},
   "outputs": [],
   "source": [
    "import numpy as np"
   ]
  },
  {
   "cell_type": "code",
   "execution_count": 7,
   "metadata": {},
   "outputs": [
    {
     "data": {
      "text/plain": [
       "array([0, 1, 2, 3, 4])"
      ]
     },
     "execution_count": 7,
     "metadata": {},
     "output_type": "execute_result"
    }
   ],
   "source": [
    "narray = np.arange(5)\n",
    "narray"
   ]
  },
  {
   "cell_type": "code",
   "execution_count": 9,
   "metadata": {},
   "outputs": [
    {
     "name": "stdout",
     "output_type": "stream",
     "text": [
      "1 4\n",
      "[1 2 3 4]\n",
      "[1 2 3 4]\n",
      "[2 3]\n"
     ]
    }
   ],
   "source": [
    "print(narray[1],narray[-1])    # 음수가 붙으면 뒤에서 n번째로 이해\n",
    "print(narray[1:])\n",
    "print(narray[1:5])\n",
    "print(narray[2:4])    # 두번째 인덱스는 포함하지 않는다."
   ]
  },
  {
   "cell_type": "code",
   "execution_count": null,
   "metadata": {},
   "outputs": [],
   "source": [
    "'''\n",
    "2차원 배열에서의 인덱싱, 슬라이싱\n",
    "인덱스는 [ , ] 콤마를 기준으로 2개의 인자를 받는다.\n",
    "앞 인자값은 행의 index, 뒤 인자값은 열의 index\n",
    ", 없이 : 를 넣으면 모든것을 다 포함한다.\n",
    "'''"
   ]
  },
  {
   "cell_type": "code",
   "execution_count": 18,
   "metadata": {},
   "outputs": [
    {
     "data": {
      "text/plain": [
       "array([[ 8,  3,  7, 15],\n",
       "       [16, 10,  2,  2],\n",
       "       [ 2, 14,  2, 17],\n",
       "       [16, 15,  4, 11]])"
      ]
     },
     "execution_count": 18,
     "metadata": {},
     "output_type": "execute_result"
    }
   ],
   "source": [
    "np.random.seed(100)\n",
    "narray1 = np.random.randint(0,20,16).reshape(4,4)\n",
    "narray1"
   ]
  },
  {
   "cell_type": "code",
   "execution_count": 39,
   "metadata": {},
   "outputs": [
    {
     "data": {
      "text/plain": [
       "array([[ 8,  3],\n",
       "       [16, 10],\n",
       "       [ 2, 14],\n",
       "       [16, 15]])"
      ]
     },
     "execution_count": 39,
     "metadata": {},
     "output_type": "execute_result"
    }
   ],
   "source": [
    "#1. narray1 에서 첫번째 줄 15를 가져오려면\n",
    "narray1[0,3]\n",
    "narray1[0][3]\n",
    "\n",
    "#2. 두번째 라인 [16,10,2,2]를 가져오려면\n",
    "narray1[1]\n",
    "narray1[1,0:4]\n",
    "narray1[1,0:]\n",
    "narray1[1,:]\n",
    "\n",
    "narray1[1:2,:]#2차원출력\n",
    "\n",
    "#3. 전체행에 대해서 4번째 열만 다 가져오려면\n",
    "narray1[0:4,3:4]\n",
    "narray1[:,3:]\n",
    "narray1[:,3]      #차원이 줄어든다\n",
    "\n",
    "#4. 전체행에 대해서 1,2번째 열만 다 가져오려면\n",
    "narray1[:,:2]\n"
   ]
  },
  {
   "cell_type": "markdown",
   "metadata": {},
   "source": [
    "### 인덱싱과 조건 슬라이싱"
   ]
  },
  {
   "cell_type": "code",
   "execution_count": 42,
   "metadata": {},
   "outputs": [
    {
     "data": {
      "text/plain": [
       "array([[ 1.76405235,  0.40015721,  0.97873798,  2.2408932 ],\n",
       "       [ 1.86755799, -0.97727788,  0.95008842, -0.15135721],\n",
       "       [-0.10321885,  0.4105985 ,  0.14404357,  1.45427351],\n",
       "       [ 0.76103773,  0.12167502,  0.44386323,  0.33367433]])"
      ]
     },
     "execution_count": 42,
     "metadata": {},
     "output_type": "execute_result"
    }
   ],
   "source": [
    "np.random.seed(0)\n",
    "arr3 = np.random.randn(4,4)\n",
    "arr3"
   ]
  },
  {
   "cell_type": "code",
   "execution_count": 45,
   "metadata": {},
   "outputs": [
    {
     "data": {
      "text/plain": [
       "array([[1.76405235, 0.40015721, 0.97873798, 2.2408932 ],\n",
       "       [1.86755799, 0.        , 0.95008842, 0.        ],\n",
       "       [0.        , 0.4105985 , 0.14404357, 1.45427351],\n",
       "       [0.76103773, 0.12167502, 0.44386323, 0.33367433]])"
      ]
     },
     "execution_count": 45,
     "metadata": {},
     "output_type": "execute_result"
    }
   ],
   "source": [
    "#1. 논리연산자 사용\n",
    "arr3[arr3>0]\n",
    "arr3[arr3<0]\n",
    "\n",
    "#2. 0보다 작은 값들을 전부 0으로 바꿔보겠다.\n",
    "arr3[arr3<0] = 0\n",
    "arr3    # 원본도 같이 바뀐다"
   ]
  },
  {
   "cell_type": "code",
   "execution_count": 53,
   "metadata": {},
   "outputs": [
    {
     "data": {
      "text/plain": [
       "array([[ 1.76405235,  0.40015721,  0.97873798,  2.2408932 ],\n",
       "       [ 1.86755799, -1.        ,  0.95008842, -1.        ],\n",
       "       [-1.        ,  0.4105985 ,  0.14404357,  1.45427351],\n",
       "       [ 0.76103773,  0.12167502,  0.44386323,  0.33367433]])"
      ]
     },
     "execution_count": 53,
     "metadata": {},
     "output_type": "execute_result"
    }
   ],
   "source": [
    "#3. where 함수\n",
    "'''\n",
    "arr3가 0보다 크면 arr3를 그대로 리턴\n",
    "arr3가 0보다 작으면 -1을 리턴....\n",
    "'''\n",
    "\n",
    "arr3_1 = np.where(arr3!=0, arr3, -1)\n",
    "arr3_1"
   ]
  },
  {
   "cell_type": "code",
   "execution_count": 54,
   "metadata": {},
   "outputs": [
    {
     "name": "stdout",
     "output_type": "stream",
     "text": [
      "[[False False]\n",
      " [ True  True]\n",
      " [ True  True]]\n",
      "[3 4 5 6]\n"
     ]
    }
   ],
   "source": [
    "a= np.array([[1,2],[3,4],[5,6]])\n",
    "bool_a = (a>2)\n",
    "print(bool_a)\n",
    "\n",
    "#true값만 출력하기\n",
    "print(a[bool_a])"
   ]
  },
  {
   "cell_type": "markdown",
   "metadata": {},
   "source": [
    "### numpy 통계함수"
   ]
  },
  {
   "cell_type": "code",
   "execution_count": 55,
   "metadata": {},
   "outputs": [
    {
     "data": {
      "text/plain": [
       "array([[18,  3, 17, 19],\n",
       "       [19, 19, 14,  7],\n",
       "       [ 0,  1,  9,  0],\n",
       "       [10,  3, 11, 18]])"
      ]
     },
     "execution_count": 55,
     "metadata": {},
     "output_type": "execute_result"
    }
   ],
   "source": [
    "arr4 = np.random.randint(0,20,16).reshape(4,4)\n",
    "arr4"
   ]
  },
  {
   "cell_type": "code",
   "execution_count": 64,
   "metadata": {
    "scrolled": true
   },
   "outputs": [
    {
     "name": "stdout",
     "output_type": "stream",
     "text": [
      "168\n",
      "[57 59 10 42]\n",
      "[47 26 51 44]\n",
      "[[18  3 17 19]\n",
      " [37 22 31 26]\n",
      " [37 23 40 26]\n",
      " [47 26 51 44]]\n",
      "[[18 21 38 57]\n",
      " [19 38 52 59]\n",
      " [ 0  1 10 10]\n",
      " [10 13 24 42]]\n",
      "[1 1 0 0]\n"
     ]
    }
   ],
   "source": [
    "'''\n",
    "numpy 배열의 통계함수\n",
    "sum(), mean(), min, max(), argmin(), argmax(), cumsum()-누적합구하기\n",
    "'''\n",
    "\n",
    "print(np.sum(arr4))\n",
    "print(np.sum(arr4,axis=1)) #열기준으로 더함\n",
    "print(np.sum(arr4,axis=0)) #행기준으로 더함\n",
    "print(np.cumsum(arr4, axis=0)) #누적합\n",
    "print(np.cumsum(arr4, axis=1)) #누적합\n",
    "\n",
    "'''\n",
    "axis = 0\n",
    "모든 행들을 다 검색\n",
    "그중에서 가장 큰 값의 인덱스를 리턴하도록\n",
    "'''\n",
    "print(np.argmax(arr4, axis=0)) #모든 행에서 봄. (같은열) axis=0"
   ]
  },
  {
   "cell_type": "code",
   "execution_count": null,
   "metadata": {},
   "outputs": [],
   "source": []
  },
  {
   "cell_type": "markdown",
   "metadata": {},
   "source": []
  },
  {
   "cell_type": "code",
   "execution_count": null,
   "metadata": {},
   "outputs": [],
   "source": []
  },
  {
   "cell_type": "code",
   "execution_count": null,
   "metadata": {},
   "outputs": [],
   "source": []
  },
  {
   "cell_type": "code",
   "execution_count": null,
   "metadata": {},
   "outputs": [],
   "source": []
  },
  {
   "cell_type": "code",
   "execution_count": null,
   "metadata": {},
   "outputs": [],
   "source": []
  },
  {
   "cell_type": "code",
   "execution_count": null,
   "metadata": {},
   "outputs": [],
   "source": []
  },
  {
   "cell_type": "code",
   "execution_count": null,
   "metadata": {},
   "outputs": [],
   "source": []
  },
  {
   "cell_type": "code",
   "execution_count": null,
   "metadata": {},
   "outputs": [],
   "source": []
  },
  {
   "cell_type": "code",
   "execution_count": null,
   "metadata": {},
   "outputs": [],
   "source": []
  },
  {
   "cell_type": "code",
   "execution_count": null,
   "metadata": {},
   "outputs": [],
   "source": []
  }
 ],
 "metadata": {
  "kernelspec": {
   "display_name": "Python 3",
   "language": "python",
   "name": "python3"
  },
  "language_info": {
   "codemirror_mode": {
    "name": "ipython",
    "version": 3
   },
   "file_extension": ".py",
   "mimetype": "text/x-python",
   "name": "python",
   "nbconvert_exporter": "python",
   "pygments_lexer": "ipython3",
   "version": "3.7.6"
  }
 },
 "nbformat": 4,
 "nbformat_minor": 4
}
